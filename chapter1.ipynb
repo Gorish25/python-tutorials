{
 "cells": [
  {
   "attachments": {},
   "cell_type": "markdown",
   "metadata": {},
   "source": [
    "## Escape Sequences"
   ]
  },
  {
   "cell_type": "code",
   "execution_count": 1,
   "metadata": {},
   "outputs": [
    {
     "name": "stdout",
     "output_type": "stream",
     "text": [
      "Hello \"World\" \n"
     ]
    }
   ],
   "source": [
    "print(\"Hello \\\"World\\\" \")"
   ]
  },
  {
   "cell_type": "code",
   "execution_count": 2,
   "metadata": {},
   "outputs": [
    {
     "name": "stdout",
     "output_type": "stream",
     "text": [
      "\"\n"
     ]
    }
   ],
   "source": [
    "print(\"\\\"\")"
   ]
  },
  {
   "attachments": {},
   "cell_type": "markdown",
   "metadata": {},
   "source": [
    "#### Some of the escape sequences\n",
    "- \\\\' = ' (single quote)\n",
    "- \\\\\" = \" (double quote)\n",
    "- \\\\\\ = \\ (backslash)\n",
    "- \\n = new line \n",
    "- \\t = tab\n",
    "- \\b = backspace"
   ]
  },
  {
   "cell_type": "code",
   "execution_count": 3,
   "metadata": {},
   "outputs": [
    {
     "name": "stdout",
     "output_type": "stream",
     "text": [
      "I'm Gorish Verma\n"
     ]
    }
   ],
   "source": [
    "print('I\\'m Gorish Verma')"
   ]
  },
  {
   "cell_type": "code",
   "execution_count": 4,
   "metadata": {},
   "outputs": [
    {
     "name": "stdout",
     "output_type": "stream",
     "text": [
      "line A\n",
      "line B\n"
     ]
    }
   ],
   "source": [
    "print('line A\\nline B')"
   ]
  },
  {
   "cell_type": "code",
   "execution_count": 5,
   "metadata": {},
   "outputs": [
    {
     "data": {
      "text/plain": [
       "'\\nthis is a multi line comment\\n'"
      ]
     },
     "execution_count": 5,
     "metadata": {},
     "output_type": "execute_result"
    }
   ],
   "source": [
    "# this is a single line comment\n",
    "'''\n",
    "this is a multi line comment\n",
    "'''"
   ]
  },
  {
   "cell_type": "code",
   "execution_count": 6,
   "metadata": {},
   "outputs": [
    {
     "name": "stdout",
     "output_type": "stream",
     "text": [
      "line A \\n line B\n"
     ]
    }
   ],
   "source": [
    "print(\"line A \\\\n line B\")"
   ]
  },
  {
   "cell_type": "code",
   "execution_count": 7,
   "metadata": {},
   "outputs": [
    {
     "name": "stdout",
     "output_type": "stream",
     "text": [
      "this is double backslash \\\\\n"
     ]
    }
   ],
   "source": [
    "print(\"this is double backslash \\\\\\\\\")"
   ]
  },
  {
   "attachments": {},
   "cell_type": "markdown",
   "metadata": {},
   "source": [
    "#### Some answers of related questions\n",
    "- print these following lines\n",
    "- 1. this is \\\\\\ double backslash\n",
    "- 2. this is /\\\\/\\\\/\\\\/\\\\/\\\\ mountain\n",
    "- 3. he is _____  awesome (use escape sequences instead of manual spaces)\n",
    "- 4. \\\\\" \\n \\t \\\\' (print this as an output)"
   ]
  },
  {
   "cell_type": "code",
   "execution_count": 8,
   "metadata": {},
   "outputs": [
    {
     "name": "stdout",
     "output_type": "stream",
     "text": [
      "this is \\\\ double backslash\n",
      "this is /\\/\\/\\/\\/\\ mountain\n",
      "he is \t \t awesome\n",
      " \\\" \\n \\t \\' \n"
     ]
    }
   ],
   "source": [
    "print(\"this is \\\\\\\\ double backslash\")\n",
    "print('this is /\\\\/\\\\/\\\\/\\\\/\\\\ mountain')\n",
    "print(\"he is \\t \\t awesome\")\n",
    "print(\" \\\\\\\" \\\\n \\\\t \\\\' \")"
   ]
  },
  {
   "attachments": {},
   "cell_type": "markdown",
   "metadata": {},
   "source": [
    "##### raw strings"
   ]
  },
  {
   "cell_type": "code",
   "execution_count": 10,
   "metadata": {},
   "outputs": [
    {
     "name": "stdout",
     "output_type": "stream",
     "text": [
      "line A \\n line B\n"
     ]
    }
   ],
   "source": [
    "print(r'line A \\n line B')"
   ]
  },
  {
   "attachments": {},
   "cell_type": "markdown",
   "metadata": {},
   "source": [
    "#### printing emoji\n",
    "- 1. Goto unicode.org\n",
    "- 2. code the code of selected emoji\n",
    "- 3. paste the code inside double quotes\n",
    "- 4. change + to 3 zeros (000)\n",
    "- 5. insert a backslash ( \\ ) at starting"
   ]
  },
  {
   "cell_type": "code",
   "execution_count": 11,
   "metadata": {},
   "outputs": [
    {
     "name": "stdout",
     "output_type": "stream",
     "text": [
      "😂\n"
     ]
    }
   ],
   "source": [
    "# code of emoji U+1F602\n",
    "print(\"\\U0001F602\")"
   ]
  },
  {
   "attachments": {},
   "cell_type": "markdown",
   "metadata": {},
   "source": [
    "#### some arithematic\n"
   ]
  },
  {
   "cell_type": "code",
   "execution_count": 1,
   "metadata": {},
   "outputs": [
    {
     "name": "stdout",
     "output_type": "stream",
     "text": [
      "1.5\n"
     ]
    }
   ],
   "source": [
    "# floating point division\n",
    "print(3/2)"
   ]
  },
  {
   "cell_type": "code",
   "execution_count": 2,
   "metadata": {},
   "outputs": [
    {
     "name": "stdout",
     "output_type": "stream",
     "text": [
      "1\n"
     ]
    }
   ],
   "source": [
    "# floor division\n",
    "print(3//2)"
   ]
  },
  {
   "cell_type": "code",
   "execution_count": 3,
   "metadata": {},
   "outputs": [
    {
     "name": "stdout",
     "output_type": "stream",
     "text": [
      "512\n"
     ]
    }
   ],
   "source": [
    "# power \n",
    "print(2**9)"
   ]
  },
  {
   "cell_type": "code",
   "execution_count": 4,
   "metadata": {},
   "outputs": [
    {
     "name": "stdout",
     "output_type": "stream",
     "text": [
      "3.0\n"
     ]
    }
   ],
   "source": [
    "print(9**0.5)"
   ]
  },
  {
   "cell_type": "code",
   "execution_count": 6,
   "metadata": {},
   "outputs": [
    {
     "name": "stdout",
     "output_type": "stream",
     "text": [
      "1.4142\n"
     ]
    }
   ],
   "source": [
    "# round\n",
    "print(round(2**0.5, 4))"
   ]
  },
  {
   "attachments": {},
   "cell_type": "markdown",
   "metadata": {},
   "source": [
    "#### Precedence rule\n",
    "- parenthese => Highest\n",
    "- Exponenet => right to left\n",
    "- *, /, //, % => left to right\n",
    "- +, - => right to left"
   ]
  },
  {
   "attachments": {},
   "cell_type": "markdown",
   "metadata": {},
   "source": [
    "#### Variables\n",
    "- to store the data\n",
    "- it can store any type of data\n",
    "- Naming rules of variables\n",
    "- 1. Cant start with a number but use the number in between or end\n",
    "- 2. it can start with any letter or underscore (_)\n",
    "- 3. Cant start with any other symbols rather than underscore (_)"
   ]
  },
  {
   "cell_type": "code",
   "execution_count": null,
   "metadata": {},
   "outputs": [],
   "source": []
  }
 ],
 "metadata": {
  "kernelspec": {
   "display_name": "Python 3",
   "language": "python",
   "name": "python3"
  },
  "language_info": {
   "codemirror_mode": {
    "name": "ipython",
    "version": 3
   },
   "file_extension": ".py",
   "mimetype": "text/x-python",
   "name": "python",
   "nbconvert_exporter": "python",
   "pygments_lexer": "ipython3",
   "version": "3.10.7"
  },
  "orig_nbformat": 4
 },
 "nbformat": 4,
 "nbformat_minor": 2
}
