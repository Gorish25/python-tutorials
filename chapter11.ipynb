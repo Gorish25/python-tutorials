{
 "cells": [
  {
   "attachments": {},
   "cell_type": "markdown",
   "metadata": {},
   "source": [
    "- intro to *args\n",
    "- it takes all inputs in tuples"
   ]
  },
  {
   "cell_type": "code",
   "execution_count": 2,
   "metadata": {},
   "outputs": [
    {
     "name": "stdout",
     "output_type": "stream",
     "text": [
      "(96, 23, 45, 63, 12, 7, 8, 96, 21, 14, 13)\n",
      "<class 'tuple'>\n",
      "None\n"
     ]
    }
   ],
   "source": [
    "def all(*args):\n",
    "    print(args)\n",
    "    print(type(args))\n",
    "\n",
    "print(all(96,23,45,63,12,7,8,96,21,14,13))"
   ]
  },
  {
   "attachments": {},
   "cell_type": "markdown",
   "metadata": {},
   "source": [
    "- function returning total\n",
    "- if we do not pass anything it pass empth tuple"
   ]
  },
  {
   "cell_type": "code",
   "execution_count": 3,
   "metadata": {},
   "outputs": [
    {
     "name": "stdout",
     "output_type": "stream",
     "text": [
      "398\n"
     ]
    }
   ],
   "source": [
    "def all_total(*args):\n",
    "    total = 0\n",
    "    for i in args:\n",
    "        total += i\n",
    "\n",
    "    return total\n",
    "\n",
    "print(all_total(96,23,45,63,12,7,8,96,21,14,13))"
   ]
  },
  {
   "attachments": {},
   "cell_type": "markdown",
   "metadata": {},
   "source": [
    "- *args with normal parameters\n",
    "- normal paramter must be at first place"
   ]
  },
  {
   "cell_type": "code",
   "execution_count": 4,
   "metadata": {},
   "outputs": [
    {
     "name": "stdout",
     "output_type": "stream",
     "text": [
      "45\n",
      "(85, 96, 32, 21, 54)\n",
      "None\n"
     ]
    }
   ],
   "source": [
    "def mult(num,*args):\n",
    "    print(num)\n",
    "    print(args)\n",
    "\n",
    "print(mult(45,85,96,32,21,54))"
   ]
  },
  {
   "cell_type": "code",
   "execution_count": 5,
   "metadata": {},
   "outputs": [
    {
     "name": "stdout",
     "output_type": "stream",
     "text": [
      "45\n",
      "()\n",
      "None\n"
     ]
    }
   ],
   "source": [
    "def mult(num,*args):\n",
    "    print(num)\n",
    "    print(args)\n",
    "\n",
    "print(mult(45))"
   ]
  },
  {
   "attachments": {},
   "cell_type": "markdown",
   "metadata": {},
   "source": [
    "- *args as a argument\n",
    "- when we pass any list, we need to unpack the list elements\n",
    "- understand with given 3 examples"
   ]
  },
  {
   "cell_type": "code",
   "execution_count": 6,
   "metadata": {},
   "outputs": [
    {
     "name": "stdout",
     "output_type": "stream",
     "text": [
      "(85, 96, 21, 14)\n",
      "2399040\n"
     ]
    }
   ],
   "source": [
    "def mult(*args):\n",
    "    multiply = 1\n",
    "    print(args)\n",
    "    for i in args:\n",
    "        multiply *= i\n",
    "\n",
    "    return multiply\n",
    "\n",
    "print(mult(85,96,21,14))"
   ]
  },
  {
   "cell_type": "code",
   "execution_count": 7,
   "metadata": {},
   "outputs": [
    {
     "name": "stdout",
     "output_type": "stream",
     "text": [
      "([85, 96, 21, 54],)\n",
      "[85, 96, 21, 54]\n"
     ]
    }
   ],
   "source": [
    "# taking list as input\n",
    "\n",
    "def mult(*args):\n",
    "    multiply = 1\n",
    "    print(args)\n",
    "    for i in args:\n",
    "        multiply *= i\n",
    "\n",
    "    return multiply\n",
    "\n",
    "print(mult([85,96,21,54]))"
   ]
  },
  {
   "cell_type": "code",
   "execution_count": 8,
   "metadata": {},
   "outputs": [
    {
     "name": "stdout",
     "output_type": "stream",
     "text": [
      "(85, 96, 21, 14)\n",
      "2399040\n"
     ]
    }
   ],
   "source": [
    "# unpacking the list\n",
    "\n",
    "def mult(*args):\n",
    "    multiply = 1\n",
    "    print(args)\n",
    "    for i in args:\n",
    "        multiply *= i\n",
    "\n",
    "    return multiply\n",
    "\n",
    "print(mult(*[85,96,21,14]))"
   ]
  },
  {
   "attachments": {},
   "cell_type": "markdown",
   "metadata": {},
   "source": [
    "- define a function\n",
    "- input\n",
    "- num, iterable(tuple, list) containing numbers as args\n",
    "- example\n",
    "- nums = [1,2,3]\n",
    "- to_power(3,*nums)\n",
    "- output\n",
    "- list ==> [1**3, 8, 27]\n",
    "- if user didn't pass any args then give a user message 'hey you didn't pass args'\n",
    "- else\n",
    "- return list\n",
    "- Note: use list comprehension"
   ]
  },
  {
   "cell_type": "code",
   "execution_count": 10,
   "metadata": {},
   "outputs": [
    {
     "name": "stdout",
     "output_type": "stream",
     "text": [
      "[64, 81, 36, 25, 16]\n"
     ]
    }
   ],
   "source": [
    "def to_power(num,*args):\n",
    "    if args:\n",
    "        return [i**num for i in args]\n",
    "    else:\n",
    "        return \"You didn't pass any args\"\n",
    "    \n",
    "\n",
    "nums = [8,9,6,5,4]\n",
    "print(to_power(2,*nums))"
   ]
  },
  {
   "attachments": {},
   "cell_type": "markdown",
   "metadata": {},
   "source": [
    "#### **kwargs (keyword arguments)\n",
    "- it gathers all the arguments in key value pair as a dictionary"
   ]
  },
  {
   "attachments": {},
   "cell_type": "markdown",
   "metadata": {},
   "source": [
    "- kwargs as a parameter"
   ]
  },
  {
   "cell_type": "code",
   "execution_count": 12,
   "metadata": {},
   "outputs": [
    {
     "name": "stdout",
     "output_type": "stream",
     "text": [
      "{'name': 'Gorish Verma', 'age': 24, 'city': 'Narnaul'}\n",
      "<class 'dict'>\n"
     ]
    }
   ],
   "source": [
    "def func(**kwargs):\n",
    "    print(kwargs)\n",
    "    print(type(kwargs))\n",
    "\n",
    "func(name='Gorish Verma',age = 24, city = 'Narnaul')"
   ]
  },
  {
   "attachments": {},
   "cell_type": "markdown",
   "metadata": {},
   "source": [
    "- looping through"
   ]
  },
  {
   "cell_type": "code",
   "execution_count": 13,
   "metadata": {},
   "outputs": [
    {
     "name": "stdout",
     "output_type": "stream",
     "text": [
      "name Gorish Verma\n",
      "age 24\n",
      "city Narnaul\n"
     ]
    }
   ],
   "source": [
    "def func(**kwargs):\n",
    "    for i,j in kwargs.items():\n",
    "        print(i,j)\n",
    "\n",
    "func(name='Gorish Verma',age = 24, city = 'Narnaul')"
   ]
  },
  {
   "attachments": {},
   "cell_type": "markdown",
   "metadata": {},
   "source": [
    "- taking argument as unpackged dicitionary"
   ]
  },
  {
   "cell_type": "code",
   "execution_count": 14,
   "metadata": {},
   "outputs": [
    {
     "name": "stdout",
     "output_type": "stream",
     "text": [
      "name Gorish Verma\n",
      "age 24\n",
      "city Narnaul\n",
      "None\n"
     ]
    }
   ],
   "source": [
    "def func(**kwargs):\n",
    "    for i,j in kwargs.items():\n",
    "        print(i,j)\n",
    "\n",
    "d = {'name' : 'Gorish Verma','age' : 24, 'city' : 'Narnaul'}\n",
    "print(func(**d))"
   ]
  },
  {
   "attachments": {},
   "cell_type": "markdown",
   "metadata": {},
   "source": [
    "- function with all type of parameters"
   ]
  },
  {
   "attachments": {},
   "cell_type": "markdown",
   "metadata": {},
   "source": [
    "- functions with all parameters\n",
    "- PADK\n",
    "- parameters\n",
    "- *args\n",
    "- default parameters\n",
    "- **kwargs"
   ]
  },
  {
   "attachments": {},
   "cell_type": "markdown",
   "metadata": {},
   "source": [
    "-excercsie\n",
    "- first letter capital of every string\n",
    "- if reversed = True then all the strings are reversed and the first letter capital"
   ]
  },
  {
   "cell_type": "code",
   "execution_count": 5,
   "metadata": {},
   "outputs": [
    {
     "name": "stdout",
     "output_type": "stream",
     "text": [
      "['Hsirog', 'Knayam', 'Luhar']\n"
     ]
    }
   ],
   "source": [
    "def func(l,**kwargs):\n",
    "    if kwargs.get(\"reverse_str\") == True:\n",
    "        return [i[::-1].capitalize() for i in l]\n",
    "    else:\n",
    "        return [i.capitalize() for i in l]\n",
    "\n",
    "\n",
    "print(func(['gorish','mayank','rahul'],reverse_str=True))"
   ]
  },
  {
   "cell_type": "code",
   "execution_count": null,
   "metadata": {},
   "outputs": [],
   "source": []
  }
 ],
 "metadata": {
  "kernelspec": {
   "display_name": "Python 3",
   "language": "python",
   "name": "python3"
  },
  "language_info": {
   "codemirror_mode": {
    "name": "ipython",
    "version": 3
   },
   "file_extension": ".py",
   "mimetype": "text/x-python",
   "name": "python",
   "nbconvert_exporter": "python",
   "pygments_lexer": "ipython3",
   "version": "3.10.7"
  },
  "orig_nbformat": 4
 },
 "nbformat": 4,
 "nbformat_minor": 2
}
