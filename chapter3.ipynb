{
 "cells": [
  {
   "attachments": {},
   "cell_type": "markdown",
   "metadata": {},
   "source": [
    "#### if statement"
   ]
  },
  {
   "cell_type": "code",
   "execution_count": 1,
   "metadata": {},
   "outputs": [],
   "source": [
    "# syntex\n",
    "# if condition:\n",
    "#       code if condition is true"
   ]
  },
  {
   "cell_type": "code",
   "execution_count": 3,
   "metadata": {},
   "outputs": [],
   "source": [
    "age = int(input(\"Enter your age: \"))\n",
    "if age>=18:\n",
    "    print('You are allowed to enter into the party')"
   ]
  },
  {
   "attachments": {},
   "cell_type": "markdown",
   "metadata": {},
   "source": [
    "#### pass statement\n",
    "- to do nothing"
   ]
  },
  {
   "cell_type": "code",
   "execution_count": 4,
   "metadata": {},
   "outputs": [],
   "source": [
    "x= 18\n",
    "if x==18:\n",
    "    pass"
   ]
  },
  {
   "attachments": {},
   "cell_type": "markdown",
   "metadata": {},
   "source": [
    "#### if else "
   ]
  },
  {
   "cell_type": "code",
   "execution_count": 5,
   "metadata": {},
   "outputs": [],
   "source": [
    "# if sondition:\n",
    "#       code\n",
    "# else:\n",
    "#       code"
   ]
  },
  {
   "cell_type": "code",
   "execution_count": 6,
   "metadata": {},
   "outputs": [
    {
     "name": "stdout",
     "output_type": "stream",
     "text": [
      "Go home and play video games\n"
     ]
    }
   ],
   "source": [
    "age = int(input(\"Enter your age: \"))\n",
    "if age>=18:\n",
    "    print(\"You are allowed into the PUB\")\n",
    "else:\n",
    "    print(\"Go home and play video games\")"
   ]
  },
  {
   "attachments": {},
   "cell_type": "markdown",
   "metadata": {},
   "source": [
    "- excercise \n",
    "- Make a number guessing game\n",
    "- make a variable, like winning_number and assign any number to it.\n",
    "- ask user to guess a number\n",
    "- if user guessed correctly then print \"You win!!!\"\n",
    "- if user didn't guessed correctly then:\n",
    "- 1. if user guessed lower than actual number then print \"too low\"\n",
    "- 2. if user guessed higher than actual number then print \"too high\"\n",
    "- google \"How to generate random number in python\" to generate random winning number"
   ]
  },
  {
   "cell_type": "code",
   "execution_count": 27,
   "metadata": {},
   "outputs": [
    {
     "name": "stdout",
     "output_type": "stream",
     "text": [
      "too low\n"
     ]
    }
   ],
   "source": [
    "import random\n",
    "winning_number = random.randint(1,20)\n",
    "no = int(input(\"Enter the number: \"))\n",
    "if no==winning_number:\n",
    "    print(\"You Win!!!\")\n",
    "else:\n",
    "    if no<winning_number:\n",
    "        print(\"too low\")\n",
    "    else:\n",
    "        print(\"Too high\")"
   ]
  },
  {
   "attachments": {},
   "cell_type": "markdown",
   "metadata": {},
   "source": [
    "#### and, or operator\n",
    "- for checking 2 conditions at same time\n",
    "- or (one of the condition is true) \n",
    "- and (both condtions must be true)"
   ]
  },
  {
   "attachments": {},
   "cell_type": "markdown",
   "metadata": {},
   "source": [
    "- and"
   ]
  },
  {
   "cell_type": "code",
   "execution_count": 29,
   "metadata": {},
   "outputs": [
    {
     "name": "stdout",
     "output_type": "stream",
     "text": [
      "condition True\n"
     ]
    }
   ],
   "source": [
    "# when both conditions are true\n",
    "name = 'abc'\n",
    "age = 18\n",
    "if name =='abc' and age==18:\n",
    "    print(\"condition True\")\n",
    "else:\n",
    "    print(\"condition False\")"
   ]
  },
  {
   "cell_type": "code",
   "execution_count": 31,
   "metadata": {},
   "outputs": [
    {
     "name": "stdout",
     "output_type": "stream",
     "text": [
      "condition False\n"
     ]
    }
   ],
   "source": [
    "# when one condition is true and one condition is false\n",
    "# then it gives false\n",
    "name = 'abc'\n",
    "age = 18\n",
    "if name =='abc' and age==19:\n",
    "    print(\"condition True\")\n",
    "else:\n",
    "    print(\"condition False\")"
   ]
  },
  {
   "attachments": {},
   "cell_type": "markdown",
   "metadata": {},
   "source": [
    "- or"
   ]
  },
  {
   "cell_type": "code",
   "execution_count": 33,
   "metadata": {},
   "outputs": [
    {
     "name": "stdout",
     "output_type": "stream",
     "text": [
      "condition True\n"
     ]
    }
   ],
   "source": [
    "# when both conditions are true, it gives true\n",
    "name = 'abc'\n",
    "age = 18\n",
    "if name =='abc' or age==18:\n",
    "    print(\"condition True\")\n",
    "else:\n",
    "    print(\"condition False\")"
   ]
  },
  {
   "cell_type": "code",
   "execution_count": 34,
   "metadata": {},
   "outputs": [
    {
     "name": "stdout",
     "output_type": "stream",
     "text": [
      "condition True\n"
     ]
    }
   ],
   "source": [
    "# when one conditions is true and the other conditions is false\n",
    "# then it gives true\n",
    "name = 'abc'\n",
    "age = 18\n",
    "if name =='abc' or age==19:\n",
    "    print(\"condition True\")\n",
    "else:\n",
    "    print(\"condition False\")"
   ]
  },
  {
   "attachments": {},
   "cell_type": "markdown",
   "metadata": {},
   "source": [
    "- excercise\n",
    "- ask user name and age\n",
    "- if user name start with ('a' or 'A') and age is above 10 then\n",
    "- print 'you can watch coco movie'\n",
    "- else print 'sorry, you cannot watch coco movie'"
   ]
  },
  {
   "cell_type": "code",
   "execution_count": 39,
   "metadata": {},
   "outputs": [
    {
     "name": "stdout",
     "output_type": "stream",
     "text": [
      "You can watch COCO movie.\n"
     ]
    }
   ],
   "source": [
    "name,age = input(\"Enter your name and age: \").split(',')\n",
    "age=int(age)\n",
    "\n",
    "if (name[0] == 'a' or name[0] == \"A\") and age>=10:\n",
    "    print(\"You can watch COCO movie.\")\n",
    "else:\n",
    "    print(\"You cannot watch COCO movie.\")"
   ]
  },
  {
   "attachments": {},
   "cell_type": "markdown",
   "metadata": {},
   "source": [
    "#### if elif else"
   ]
  },
  {
   "cell_type": "code",
   "execution_count": 41,
   "metadata": {},
   "outputs": [
    {
     "name": "stdout",
     "output_type": "stream",
     "text": [
      "Ticket Price is Rs.200\n"
     ]
    }
   ],
   "source": [
    "age = int(input(\"Enter your age: \"))\n",
    "if 0<age<=3:\n",
    "    print('Ticket is free')\n",
    "elif 3<age<=10:\n",
    "    print(\"Ticket Price is Rs.150\")\n",
    "elif 10<age<=60:\n",
    "    print(\"Ticket Price is Rs.250\")\n",
    "else:\n",
    "    print(\"Ticket Price is Rs.200\")"
   ]
  },
  {
   "attachments": {},
   "cell_type": "markdown",
   "metadata": {},
   "source": [
    "#### in keyword"
   ]
  },
  {
   "cell_type": "code",
   "execution_count": 42,
   "metadata": {},
   "outputs": [
    {
     "name": "stdout",
     "output_type": "stream",
     "text": [
      "Yes r is in Gorish Verma\n"
     ]
    }
   ],
   "source": [
    "name = \"Gorish Verma\"\n",
    "if 'r' in name:\n",
    "    print('Yes r is in Gorish Verma')\n",
    "else:\n",
    "    print('No it is not present')"
   ]
  },
  {
   "attachments": {},
   "cell_type": "markdown",
   "metadata": {},
   "source": [
    "#### check empty or not"
   ]
  },
  {
   "cell_type": "code",
   "execution_count": 43,
   "metadata": {},
   "outputs": [
    {
     "name": "stdout",
     "output_type": "stream",
     "text": [
      "empty string\n"
     ]
    }
   ],
   "source": [
    "name=''\n",
    "if name:\n",
    "    print('has something')\n",
    "else:\n",
    "    print('empty string')"
   ]
  },
  {
   "cell_type": "code",
   "execution_count": 44,
   "metadata": {},
   "outputs": [
    {
     "name": "stdout",
     "output_type": "stream",
     "text": [
      "has something\n"
     ]
    }
   ],
   "source": [
    "name='Gorish Verma'\n",
    "if name:\n",
    "    print('has something')\n",
    "else:\n",
    "    print('string is empty')"
   ]
  },
  {
   "attachments": {},
   "cell_type": "markdown",
   "metadata": {},
   "source": [
    "#### while loop"
   ]
  },
  {
   "cell_type": "code",
   "execution_count": 45,
   "metadata": {},
   "outputs": [
    {
     "name": "stdout",
     "output_type": "stream",
     "text": [
      "1 2 3 4 5 6 7 8 9 10 "
     ]
    }
   ],
   "source": [
    "# printing upto 10\n",
    "i = 1\n",
    "while i<=10:\n",
    "    print(i,end=' ')\n",
    "    i+=1"
   ]
  },
  {
   "attachments": {},
   "cell_type": "markdown",
   "metadata": {},
   "source": [
    "- sum upto the numbers"
   ]
  },
  {
   "cell_type": "code",
   "execution_count": 46,
   "metadata": {},
   "outputs": [
    {
     "name": "stdout",
     "output_type": "stream",
     "text": [
      "55\n"
     ]
    }
   ],
   "source": [
    "i=1\n",
    "sum=0\n",
    "while i<=10:\n",
    "    sum+=i\n",
    "    i+=1\n",
    "    \n",
    "print(sum)"
   ]
  },
  {
   "attachments": {},
   "cell_type": "markdown",
   "metadata": {},
   "source": [
    "- excercise\n",
    "- sum of n natural numbers\n",
    "- ask a user for a natural number\n",
    "- print total from 1 to n"
   ]
  },
  {
   "cell_type": "code",
   "execution_count": 49,
   "metadata": {},
   "outputs": [
    {
     "name": "stdout",
     "output_type": "stream",
     "text": [
      "the sum of 1 to 15 is 120\n"
     ]
    }
   ],
   "source": [
    "no = int(input('Enter a number'))\n",
    "i=1\n",
    "sum=0\n",
    "while i<=no:\n",
    "    sum+=i\n",
    "    i+=1\n",
    "\n",
    "print(f'the sum of 1 to {no} is {sum}')"
   ]
  },
  {
   "attachments": {},
   "cell_type": "markdown",
   "metadata": {},
   "source": [
    "- excercise \n",
    "- ask user to input a number containing more than one digit\n",
    "- example = 1256\n",
    "- calculate 1+2+5+6 and print"
   ]
  },
  {
   "cell_type": "code",
   "execution_count": 50,
   "metadata": {},
   "outputs": [
    {
     "name": "stdout",
     "output_type": "stream",
     "text": [
      "sum of the digits of 1256 is 14\n"
     ]
    }
   ],
   "source": [
    "no = input('Enter the number')\n",
    "sum=0\n",
    "i=0\n",
    "while i<len(no):\n",
    "    sum+=int(no[i])\n",
    "    i+=1\n",
    "\n",
    "print(f'sum of the digits of {no} is {sum}')"
   ]
  },
  {
   "attachments": {},
   "cell_type": "markdown",
   "metadata": {},
   "source": [
    "- ask a user for name\n",
    "- example = Gorish Verma\n",
    "- print count of each word\n",
    "- output:\n",
    "- G : 1\n",
    "- o : 1\n",
    "- r : 2\n",
    "- i : 1\n",
    "- s : 1\n",
    "- h : 1\n",
    "- v : 1\n",
    "- e : 1\n",
    "- m : 1\n",
    "- a : 1"
   ]
  },
  {
   "cell_type": "code",
   "execution_count": 53,
   "metadata": {},
   "outputs": [
    {
     "name": "stdout",
     "output_type": "stream",
     "text": [
      "G  :  1\n",
      "o  :  1\n",
      "r  :  2\n",
      "i  :  1\n",
      "s  :  1\n",
      "h  :  1\n",
      "   :  1\n",
      "V  :  1\n",
      "e  :  1\n",
      "r  :  2\n",
      "m  :  1\n",
      "a  :  1\n"
     ]
    }
   ],
   "source": [
    "name = input(\"Enter your name: \")\n",
    "i = 0\n",
    "while i<len(name):\n",
    "    print(name[i],\" : \", name.count(name[i]))\n",
    "    i+=1\n"
   ]
  },
  {
   "cell_type": "code",
   "execution_count": 54,
   "metadata": {},
   "outputs": [
    {
     "name": "stdout",
     "output_type": "stream",
     "text": [
      "G  :  1\n",
      "o  :  1\n",
      "r  :  2\n",
      "i  :  1\n",
      "s  :  1\n",
      "h  :  1\n",
      "   :  1\n",
      "V  :  1\n",
      "e  :  1\n",
      "m  :  1\n",
      "a  :  1\n"
     ]
    }
   ],
   "source": [
    "name = input(\"Enter your name: \")\n",
    "temp_var = \"\"\n",
    "i = 0\n",
    "while i<len(name):\n",
    "    if name[i] not in temp_var:\n",
    "        temp_var += name[i]\n",
    "        print(name[i],\" : \", name.count(name[i]))\n",
    "    i+=1\n"
   ]
  },
  {
   "attachments": {},
   "cell_type": "markdown",
   "metadata": {},
   "source": [
    "#### for loop"
   ]
  },
  {
   "attachments": {},
   "cell_type": "markdown",
   "metadata": {},
   "source": [
    "- for loop with range function"
   ]
  },
  {
   "cell_type": "code",
   "execution_count": 58,
   "metadata": {},
   "outputs": [
    {
     "name": "stdout",
     "output_type": "stream",
     "text": [
      "Hello World! 0\n",
      "Hello World! 1\n",
      "Hello World! 2\n",
      "Hello World! 3\n",
      "Hello World! 4\n",
      "Hello World! 5\n",
      "Hello World! 6\n",
      "Hello World! 7\n",
      "Hello World! 8\n",
      "Hello World! 9\n"
     ]
    }
   ],
   "source": [
    "# here 10 is excluded\n",
    "for i in range(10):\n",
    "    print(f\"Hello World! {i}\")"
   ]
  },
  {
   "attachments": {},
   "cell_type": "markdown",
   "metadata": {},
   "source": [
    "- sum from 1 to 10 using for loop"
   ]
  },
  {
   "cell_type": "code",
   "execution_count": 59,
   "metadata": {},
   "outputs": [
    {
     "name": "stdout",
     "output_type": "stream",
     "text": [
      "Sum from 1 to 10 is 55\n"
     ]
    }
   ],
   "source": [
    "sum=0\n",
    "for i in range(1,11):\n",
    "    sum+=i\n",
    "\n",
    "print(f'Sum from 1 to 10 is {sum}')"
   ]
  },
  {
   "attachments": {},
   "cell_type": "markdown",
   "metadata": {},
   "source": [
    "- sum from 1 to user input value"
   ]
  },
  {
   "cell_type": "code",
   "execution_count": 60,
   "metadata": {},
   "outputs": [
    {
     "name": "stdout",
     "output_type": "stream",
     "text": [
      "the sum from 1 to 15 is 120\n"
     ]
    }
   ],
   "source": [
    "no = int(input(\"Enter the no: \"))\n",
    "sum = 0\n",
    "for i in range(1,no+1):\n",
    "    sum+=i\n",
    "\n",
    "print(f'the sum from 1 to {no} is {sum}')"
   ]
  },
  {
   "attachments": {},
   "cell_type": "markdown",
   "metadata": {},
   "source": [
    "- excercise\n",
    "- ask user a number like 1256\n",
    "- calculate sum of digits => 1+2+5+6"
   ]
  },
  {
   "cell_type": "code",
   "execution_count": 61,
   "metadata": {},
   "outputs": [
    {
     "name": "stdout",
     "output_type": "stream",
     "text": [
      "the sum of the digits of no. 1256 is 14\n"
     ]
    }
   ],
   "source": [
    "no = input('Enter the number: ')\n",
    "sum=0\n",
    "for i in range(len(no)):\n",
    "    sum+=int(no[i])\n",
    "\n",
    "print(f'the sum of the digits of no. {no} is {sum}')"
   ]
  },
  {
   "attachments": {},
   "cell_type": "markdown",
   "metadata": {},
   "source": [
    "- excercise\n",
    "- ask user name and count each character\n",
    "- \"Gorish Verma\"\n",
    "- G : 1\n",
    "- o : 1\n",
    "- r : 2\n",
    "- i : 1\n",
    "- s : 1\n",
    "- h : 1\n",
    "- v : 1\n",
    "- e : 1\n",
    "- m : 1\n",
    "- a : 1"
   ]
  },
  {
   "cell_type": "code",
   "execution_count": 62,
   "metadata": {},
   "outputs": [
    {
     "name": "stdout",
     "output_type": "stream",
     "text": [
      "G  :  1\n",
      "o  :  1\n",
      "r  :  2\n",
      "i  :  1\n",
      "s  :  1\n",
      "h  :  1\n",
      "   :  1\n",
      "V  :  1\n",
      "e  :  1\n",
      "m  :  1\n",
      "a  :  1\n"
     ]
    }
   ],
   "source": [
    "name = input(\"Enter your name: \")\n",
    "extra = ''\n",
    "for i in range(len(name)):\n",
    "    if name[i] not in extra:\n",
    "        extra+=name[i]\n",
    "        print(name[i],\" : \",name.count(name[i]))\n",
    "        "
   ]
  },
  {
   "attachments": {},
   "cell_type": "markdown",
   "metadata": {},
   "source": [
    "#### Break\n",
    "- to break the loop"
   ]
  },
  {
   "cell_type": "code",
   "execution_count": 63,
   "metadata": {},
   "outputs": [
    {
     "name": "stdout",
     "output_type": "stream",
     "text": [
      "0 1 2 3 4 "
     ]
    }
   ],
   "source": [
    "for i in range(10):\n",
    "    if i==5:\n",
    "        break\n",
    "    print(i,end=' ')"
   ]
  },
  {
   "attachments": {},
   "cell_type": "markdown",
   "metadata": {},
   "source": [
    "#### continue\n",
    "- to skip a step"
   ]
  },
  {
   "cell_type": "code",
   "execution_count": 64,
   "metadata": {},
   "outputs": [
    {
     "name": "stdout",
     "output_type": "stream",
     "text": [
      "1 2 3 4 6 7 8 9 10 "
     ]
    }
   ],
   "source": [
    "for i in range(1,11):\n",
    "    if i==5:\n",
    "        continue\n",
    "    print(i,end=' ')"
   ]
  },
  {
   "attachments": {},
   "cell_type": "markdown",
   "metadata": {},
   "source": [
    "- excercise\n",
    "- Modify number guessing game"
   ]
  },
  {
   "cell_type": "code",
   "execution_count": 67,
   "metadata": {},
   "outputs": [
    {
     "name": "stdout",
     "output_type": "stream",
     "text": [
      "Too Low\n",
      "Too Low\n",
      "Too Low\n",
      "Too Low\n",
      "Too Low\n",
      "Too High\n",
      "Too Low\n",
      "Too Low\n",
      "You Win!! you guessed it right in 9 steps\n"
     ]
    }
   ],
   "source": [
    "guess = 0\n",
    "import random\n",
    "winning_number = random.randint(1,100)\n",
    "\n",
    "while True:\n",
    "    no = int(input(\"Enter the no: \"))\n",
    "    if no==winning_number:\n",
    "        guess+=1\n",
    "        print(f'You Win!! you guessed it right in {guess} steps')\n",
    "        break\n",
    "    else:\n",
    "        if no<winning_number:\n",
    "            print(\"Too Low\")\n",
    "        else:\n",
    "            print(\"Too High\")\n",
    "        guess += 1"
   ]
  },
  {
   "attachments": {},
   "cell_type": "markdown",
   "metadata": {},
   "source": [
    "- DRY = Dont Repeat Yourself"
   ]
  },
  {
   "attachments": {},
   "cell_type": "markdown",
   "metadata": {},
   "source": [
    "#### step"
   ]
  },
  {
   "cell_type": "code",
   "execution_count": 69,
   "metadata": {},
   "outputs": [
    {
     "name": "stdout",
     "output_type": "stream",
     "text": [
      "2 4 6 8 10 12 14 16 18 20 22 24 26 28 30 32 34 36 38 40 42 44 46 48 50 "
     ]
    }
   ],
   "source": [
    "for i in range(2,51,2):\n",
    "    print(i,end=' ')"
   ]
  },
  {
   "cell_type": "code",
   "execution_count": 71,
   "metadata": {},
   "outputs": [
    {
     "name": "stdout",
     "output_type": "stream",
     "text": [
      "50 48 46 44 42 40 38 36 34 32 30 28 26 24 22 20 18 16 14 12 10 8 6 4 2 "
     ]
    }
   ],
   "source": [
    "for i in range(50,1,-2):\n",
    "    print(i,end=' ')"
   ]
  },
  {
   "attachments": {},
   "cell_type": "markdown",
   "metadata": {},
   "source": [
    "#### for with strings"
   ]
  },
  {
   "cell_type": "code",
   "execution_count": 72,
   "metadata": {},
   "outputs": [
    {
     "name": "stdout",
     "output_type": "stream",
     "text": [
      "G o r i s h   V e r m a "
     ]
    }
   ],
   "source": [
    "name = \"Gorish Verma\"\n",
    "for i in range(len(name)):\n",
    "    print(name[i],end=' ')"
   ]
  },
  {
   "cell_type": "code",
   "execution_count": 73,
   "metadata": {},
   "outputs": [
    {
     "name": "stdout",
     "output_type": "stream",
     "text": [
      "G o r i s h   V e r m a "
     ]
    }
   ],
   "source": [
    "for i in name:\n",
    "    print(i,end=' ')"
   ]
  },
  {
   "cell_type": "code",
   "execution_count": 74,
   "metadata": {},
   "outputs": [
    {
     "name": "stdout",
     "output_type": "stream",
     "text": [
      "P r a s h a n t "
     ]
    }
   ],
   "source": [
    "for i in \"Prashant\":\n",
    "    print(i,end=' ')"
   ]
  },
  {
   "attachments": {},
   "cell_type": "markdown",
   "metadata": {},
   "source": [
    "- digit sum"
   ]
  },
  {
   "cell_type": "code",
   "execution_count": 78,
   "metadata": {},
   "outputs": [
    {
     "name": "stdout",
     "output_type": "stream",
     "text": [
      "15\n"
     ]
    }
   ],
   "source": [
    "no = input(\"Enter a number\")\n",
    "sum=0\n",
    "for i in no:\n",
    "    sum+=int(i)\n",
    "\n",
    "print(sum)"
   ]
  },
  {
   "cell_type": "code",
   "execution_count": null,
   "metadata": {},
   "outputs": [],
   "source": []
  },
  {
   "cell_type": "code",
   "execution_count": null,
   "metadata": {},
   "outputs": [],
   "source": []
  }
 ],
 "metadata": {
  "kernelspec": {
   "display_name": "Python 3",
   "language": "python",
   "name": "python3"
  },
  "language_info": {
   "codemirror_mode": {
    "name": "ipython",
    "version": 3
   },
   "file_extension": ".py",
   "mimetype": "text/x-python",
   "name": "python",
   "nbconvert_exporter": "python",
   "pygments_lexer": "ipython3",
   "version": "3.10.7"
  },
  "orig_nbformat": 4
 },
 "nbformat": 4,
 "nbformat_minor": 2
}
