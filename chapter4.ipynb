{
 "cells": [
  {
   "attachments": {},
   "cell_type": "markdown",
   "metadata": {},
   "source": [
    "#### Function intro\n",
    "- They are of 2 types\n",
    "- 1. In-Built (ex. len())\n",
    "- 2. User defined"
   ]
  },
  {
   "cell_type": "code",
   "execution_count": 2,
   "metadata": {},
   "outputs": [
    {
     "name": "stdout",
     "output_type": "stream",
     "text": [
      "9\n",
      "104\n"
     ]
    }
   ],
   "source": [
    "def add(a,b):\n",
    "    return a + b\n",
    "\n",
    "sum = add(4,5)\n",
    "print(sum)\n",
    "print(add(8,96))"
   ]
  },
  {
   "cell_type": "code",
   "execution_count": 3,
   "metadata": {},
   "outputs": [
    {
     "name": "stdout",
     "output_type": "stream",
     "text": [
      "Sum of 45 and 96 is 117\n"
     ]
    }
   ],
   "source": [
    "n1 = int(input(\"Enter Number 1: \"))\n",
    "n2 = int(input(\"Enter Number 2: \"))\n",
    "print(f'Sum of {n1} and {n2} is {add(85,32)}')"
   ]
  },
  {
   "cell_type": "code",
   "execution_count": 5,
   "metadata": {},
   "outputs": [
    {
     "name": "stdout",
     "output_type": "stream",
     "text": [
      "Full name is Gorish Verma\n"
     ]
    }
   ],
   "source": [
    "f_name = input(\"Enter first name: \")\n",
    "l_name = input(\"Enter last name: \")\n",
    "print(f'Full name is {add(f_name,l_name)}')"
   ]
  },
  {
   "attachments": {},
   "cell_type": "markdown",
   "metadata": {},
   "source": [
    "#### print vs return\n",
    "- print prints the result\n",
    "- return returns the result, which can be stored into a variable and we can use that later"
   ]
  },
  {
   "attachments": {},
   "cell_type": "markdown",
   "metadata": {},
   "source": [
    "- in this we are printing result so we cannot store it into any variable"
   ]
  },
  {
   "cell_type": "code",
   "execution_count": 9,
   "metadata": {},
   "outputs": [
    {
     "name": "stdout",
     "output_type": "stream",
     "text": [
      "226\n"
     ]
    }
   ],
   "source": [
    "\n",
    "def add(a,b,c):\n",
    "    print(a+b+c)\n",
    "\n",
    "add(45,85,96)"
   ]
  },
  {
   "attachments": {},
   "cell_type": "markdown",
   "metadata": {},
   "source": [
    "- in this we are returning the result, so we can store it also into any variable"
   ]
  },
  {
   "cell_type": "code",
   "execution_count": 10,
   "metadata": {},
   "outputs": [
    {
     "name": "stdout",
     "output_type": "stream",
     "text": [
      "202\n"
     ]
    }
   ],
   "source": [
    "\n",
    "def add(a,b,c):\n",
    "    return a+b+c\n",
    "\n",
    "result = add(85,96,21)\n",
    "print(result)"
   ]
  },
  {
   "attachments": {},
   "cell_type": "markdown",
   "metadata": {},
   "source": [
    "- this function returns last character of string"
   ]
  },
  {
   "cell_type": "code",
   "execution_count": 11,
   "metadata": {},
   "outputs": [
    {
     "name": "stdout",
     "output_type": "stream",
     "text": [
      "h\n"
     ]
    }
   ],
   "source": [
    "\n",
    "def last(s):\n",
    "    return s[-1]\n",
    "\n",
    "print(last('Gorish'))"
   ]
  },
  {
   "attachments": {},
   "cell_type": "markdown",
   "metadata": {},
   "source": [
    "- this function returns even or odd"
   ]
  },
  {
   "cell_type": "code",
   "execution_count": 14,
   "metadata": {},
   "outputs": [
    {
     "name": "stdout",
     "output_type": "stream",
     "text": [
      "even\n",
      "odd\n"
     ]
    }
   ],
   "source": [
    "def odd_even(n):\n",
    "    if n%2 == 0:\n",
    "        return 'even'\n",
    "    else:\n",
    "        return 'odd'\n",
    "    \n",
    "print(odd_even(78))\n",
    "print(odd_even(13))"
   ]
  },
  {
   "cell_type": "code",
   "execution_count": 15,
   "metadata": {},
   "outputs": [],
   "source": [
    "# short way\n",
    "def odd_even(n): \n",
    "    if n%2 == 0: \n",
    "        return 'even'\n",
    "    return 'odd'"
   ]
  },
  {
   "cell_type": "code",
   "execution_count": 16,
   "metadata": {},
   "outputs": [],
   "source": [
    "# very short way\n",
    "# this will return True or False\n",
    "def odd_even(n):\n",
    "    return n%2 == 0\n"
   ]
  },
  {
   "attachments": {},
   "cell_type": "markdown",
   "metadata": {},
   "source": [
    "- excercise\n",
    "- define a function which takes 2 numbers as a input and return greater or 2 numbers"
   ]
  },
  {
   "cell_type": "code",
   "execution_count": 18,
   "metadata": {},
   "outputs": [
    {
     "name": "stdout",
     "output_type": "stream",
     "text": [
      "63 is bigger than 45\n"
     ]
    }
   ],
   "source": [
    "def bigger(x,y):\n",
    "    if x>y:\n",
    "        return f\"{x} is bigger than {y}\"\n",
    "    return f\"{y} is bigger than {x}\"\n",
    "\n",
    "\n",
    "n1 = int(input(\"Enter first No. : \"))\n",
    "n2 = int(input(\"Enter second No. : \"))\n",
    "print(bigger(n1,n2))"
   ]
  },
  {
   "attachments": {},
   "cell_type": "markdown",
   "metadata": {},
   "source": [
    "- finding the greater from 3 numbers"
   ]
  },
  {
   "cell_type": "code",
   "execution_count": 19,
   "metadata": {},
   "outputs": [
    {
     "name": "stdout",
     "output_type": "stream",
     "text": [
      "96 is bigger\n"
     ]
    }
   ],
   "source": [
    "def greatest(a,b,c):\n",
    "    if a>b:\n",
    "        if a>c:\n",
    "            return f\"{a} is bigger\"\n",
    "        return f\"{c} is bigger\"\n",
    "    else:\n",
    "        if b>c:\n",
    "            return f\"{b} is bigger\"\n",
    "        return f\"{c} is bigger\"\n",
    "    \n",
    "print(greatest(14,12,96))"
   ]
  },
  {
   "attachments": {},
   "cell_type": "markdown",
   "metadata": {},
   "source": [
    "- finding greatest using the help of another function"
   ]
  },
  {
   "cell_type": "code",
   "execution_count": 20,
   "metadata": {},
   "outputs": [
    {
     "name": "stdout",
     "output_type": "stream",
     "text": [
      "96\n"
     ]
    }
   ],
   "source": [
    "def bigger(a,b):\n",
    "    if a>b:\n",
    "        return a\n",
    "    return b\n",
    "\n",
    "def greatest(a,b,c):\n",
    "    big = bigger(a,b)\n",
    "    return bigger(big,c)\n",
    "\n",
    "print(greatest(45,96,71))"
   ]
  },
  {
   "attachments": {},
   "cell_type": "markdown",
   "metadata": {},
   "source": [
    "- another way"
   ]
  },
  {
   "cell_type": "code",
   "execution_count": 21,
   "metadata": {},
   "outputs": [
    {
     "name": "stdout",
     "output_type": "stream",
     "text": [
      "230\n"
     ]
    }
   ],
   "source": [
    "def bigger(a,b):\n",
    "    if a>b:\n",
    "        return a\n",
    "    return b\n",
    "\n",
    "def greatest(a,b,c):\n",
    "    return bigger(bigger(a,b),c)\n",
    "\n",
    "print(greatest(74,51,230))"
   ]
  },
  {
   "attachments": {},
   "cell_type": "markdown",
   "metadata": {},
   "source": [
    "- there is a principal in programming\n",
    "- KISS => Keep It Simple Stupid"
   ]
  },
  {
   "attachments": {},
   "cell_type": "markdown",
   "metadata": {},
   "source": [
    "- excercise\n",
    "- define is_palindrome function that take one word in string as input and return True if it is palindrome else return False\n",
    "- Palindrome = If reverse of a string is equal to original\n",
    "- ex. NAMAN = NAMAN"
   ]
  },
  {
   "cell_type": "code",
   "execution_count": 23,
   "metadata": {},
   "outputs": [
    {
     "name": "stdout",
     "output_type": "stream",
     "text": [
      "True\n",
      "False\n"
     ]
    }
   ],
   "source": [
    "def is_pal(s):\n",
    "    if s == s[::-1]:\n",
    "        return True\n",
    "    return False\n",
    "\n",
    "print(is_pal('naman'))\n",
    "print(is_pal('rahul'))"
   ]
  },
  {
   "attachments": {},
   "cell_type": "markdown",
   "metadata": {},
   "source": [
    "- another way"
   ]
  },
  {
   "cell_type": "code",
   "execution_count": 24,
   "metadata": {},
   "outputs": [
    {
     "name": "stdout",
     "output_type": "stream",
     "text": [
      "True\n",
      "False\n"
     ]
    }
   ],
   "source": [
    "def is_pal(s):\n",
    "    return s==s[::-1]\n",
    "\n",
    "print(is_pal('naman'))\n",
    "print(is_pal('rahul'))"
   ]
  },
  {
   "attachments": {},
   "cell_type": "markdown",
   "metadata": {},
   "source": [
    "- excercise\n",
    "- define a function for fibonacci series"
   ]
  },
  {
   "cell_type": "code",
   "execution_count": 35,
   "metadata": {},
   "outputs": [
    {
     "name": "stdout",
     "output_type": "stream",
     "text": [
      "0 1 1 2 3 5 8 13 21 34 55 89 144 233 377 610 987 1597 2584 None\n"
     ]
    }
   ],
   "source": [
    "def fibo(n):\n",
    "    if n>0:\n",
    "        if n == 1:\n",
    "            print(0)\n",
    "        elif n == 2:\n",
    "            print(0,1)\n",
    "        else:\n",
    "            a,b = 0,1\n",
    "            print(a,end=' ')\n",
    "            for i in range(n-2):\n",
    "                print(b,end=' ')\n",
    "                c = a+b\n",
    "                a = b\n",
    "                b = c\n",
    "\n",
    "print(fibo(20))"
   ]
  },
  {
   "attachments": {},
   "cell_type": "markdown",
   "metadata": {},
   "source": [
    "#### Default parameters"
   ]
  },
  {
   "cell_type": "code",
   "execution_count": 38,
   "metadata": {},
   "outputs": [
    {
     "name": "stdout",
     "output_type": "stream",
     "text": [
      "Your First name is Gorish\n",
      "Your Last name is Verma\n",
      "Your age is None\n"
     ]
    }
   ],
   "source": [
    "# in this programm age is default parameter\n",
    "# if we provide age, it will override the previous value\n",
    "def user_info(f_name,l_name,age=None):\n",
    "    print(f'Your First name is {f_name}')\n",
    "    print(f'Your Last name is {l_name}')\n",
    "    print(f'Your age is {age}')\n",
    "\n",
    "user_info('Gorish','Verma')"
   ]
  },
  {
   "cell_type": "code",
   "execution_count": 39,
   "metadata": {},
   "outputs": [
    {
     "name": "stdout",
     "output_type": "stream",
     "text": [
      "Your First name is Gorish\n",
      "Your Last name is Verma\n",
      "Your age is 24\n"
     ]
    }
   ],
   "source": [
    "def user_info(f_name,l_name,age=22):\n",
    "    print(f'Your First name is {f_name}')\n",
    "    print(f'Your Last name is {l_name}')\n",
    "    print(f'Your age is {age}')\n",
    "\n",
    "user_info('Gorish','Verma',24)"
   ]
  },
  {
   "attachments": {},
   "cell_type": "markdown",
   "metadata": {},
   "source": [
    "#### scope"
   ]
  },
  {
   "cell_type": "code",
   "execution_count": 44,
   "metadata": {},
   "outputs": [
    {
     "name": "stdout",
     "output_type": "stream",
     "text": [
      "5\n",
      "7\n",
      "5\n"
     ]
    }
   ],
   "source": [
    "x=5 # global variable\n",
    "def func():\n",
    "    x = 7 # local variable\n",
    "    return x\n",
    "\n",
    "print(x)\n",
    "print(func())\n",
    "print(x)"
   ]
  },
  {
   "cell_type": "code",
   "execution_count": 43,
   "metadata": {},
   "outputs": [
    {
     "name": "stdout",
     "output_type": "stream",
     "text": [
      "5\n",
      "7\n",
      "7\n"
     ]
    }
   ],
   "source": [
    "x=5 # global variable\n",
    "def func():\n",
    "    global x\n",
    "    x = 7\n",
    "    return x\n",
    "\n",
    "print(x)\n",
    "print(func())\n",
    "print(x)"
   ]
  },
  {
   "cell_type": "code",
   "execution_count": null,
   "metadata": {},
   "outputs": [],
   "source": []
  }
 ],
 "metadata": {
  "kernelspec": {
   "display_name": "Python 3",
   "language": "python",
   "name": "python3"
  },
  "language_info": {
   "codemirror_mode": {
    "name": "ipython",
    "version": 3
   },
   "file_extension": ".py",
   "mimetype": "text/x-python",
   "name": "python",
   "nbconvert_exporter": "python",
   "pygments_lexer": "ipython3",
   "version": "3.10.7"
  },
  "orig_nbformat": 4
 },
 "nbformat": 4,
 "nbformat_minor": 2
}
