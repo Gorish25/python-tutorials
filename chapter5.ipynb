{
 "cells": [
  {
   "attachments": {},
   "cell_type": "markdown",
   "metadata": {},
   "source": [
    "#### Intro to list\n",
    "- ordered collection of items\n",
    "- it can store anything ex, int, float, string, list itself etc\n",
    "- mutable"
   ]
  },
  {
   "cell_type": "code",
   "execution_count": 1,
   "metadata": {},
   "outputs": [
    {
     "name": "stdout",
     "output_type": "stream",
     "text": [
      "[1, 2, 3, 4]\n"
     ]
    }
   ],
   "source": [
    "numbers = [1,2,3,4]\n",
    "print(numbers)"
   ]
  },
  {
   "cell_type": "code",
   "execution_count": 2,
   "metadata": {},
   "outputs": [
    {
     "name": "stdout",
     "output_type": "stream",
     "text": [
      "['w1', 'w2', 'w3', 'w4']\n"
     ]
    }
   ],
   "source": [
    "words = ['w1','w2','w3','w4']\n",
    "print(words)"
   ]
  },
  {
   "cell_type": "code",
   "execution_count": 5,
   "metadata": {},
   "outputs": [],
   "source": [
    "mixed = [1,2,3,4.58,'Hii',(9,6,2),{'name':\"Gorish\",'age':24},[45,63,9], None]"
   ]
  },
  {
   "cell_type": "code",
   "execution_count": 6,
   "metadata": {},
   "outputs": [
    {
     "name": "stdout",
     "output_type": "stream",
     "text": [
      "[1, 2, 3, 4.58, 'Hii', (9, 6, 2), {'name': 'Gorish', 'age': 24}, [45, 63, 9], None]\n"
     ]
    }
   ],
   "source": [
    "print(mixed)"
   ]
  },
  {
   "attachments": {},
   "cell_type": "markdown",
   "metadata": {},
   "source": [
    "- accessing list elements"
   ]
  },
  {
   "cell_type": "code",
   "execution_count": 10,
   "metadata": {},
   "outputs": [
    {
     "name": "stdout",
     "output_type": "stream",
     "text": [
      "{'name': 'Gorish', 'age': 24}\n"
     ]
    }
   ],
   "source": [
    "print(mixed[6])"
   ]
  },
  {
   "attachments": {},
   "cell_type": "markdown",
   "metadata": {},
   "source": [
    "- slicing"
   ]
  },
  {
   "cell_type": "code",
   "execution_count": 11,
   "metadata": {},
   "outputs": [
    {
     "name": "stdout",
     "output_type": "stream",
     "text": [
      "[1, 2, 3, 4.58]\n"
     ]
    }
   ],
   "source": [
    "print(mixed[:4])"
   ]
  },
  {
   "cell_type": "code",
   "execution_count": 12,
   "metadata": {},
   "outputs": [
    {
     "name": "stdout",
     "output_type": "stream",
     "text": [
      "None\n"
     ]
    }
   ],
   "source": [
    "print(mixed[-1])"
   ]
  },
  {
   "attachments": {},
   "cell_type": "markdown",
   "metadata": {},
   "source": [
    "- changing any element of list"
   ]
  },
  {
   "cell_type": "code",
   "execution_count": 13,
   "metadata": {},
   "outputs": [
    {
     "name": "stdout",
     "output_type": "stream",
     "text": [
      "[1, 2, 3, 4.58, 'Hii', ['hii', 'hello', 'namaste'], {'name': 'Gorish', 'age': 24}, [45, 63, 9], None]\n"
     ]
    }
   ],
   "source": [
    "mixed[5] = ['hii','hello','namaste']\n",
    "print(mixed)"
   ]
  },
  {
   "cell_type": "code",
   "execution_count": 14,
   "metadata": {},
   "outputs": [
    {
     "name": "stdout",
     "output_type": "stream",
     "text": [
      "[1, 2, 'hhh', 'sss', 'rrr']\n"
     ]
    }
   ],
   "source": [
    "mixed[2:] = ['hhh','sss','rrr']\n",
    "print(mixed)"
   ]
  },
  {
   "attachments": {},
   "cell_type": "markdown",
   "metadata": {},
   "source": [
    "#### adding data into list"
   ]
  },
  {
   "attachments": {},
   "cell_type": "markdown",
   "metadata": {},
   "source": [
    "- using append()\n",
    "- it adds the item at last"
   ]
  },
  {
   "cell_type": "code",
   "execution_count": 16,
   "metadata": {},
   "outputs": [
    {
     "name": "stdout",
     "output_type": "stream",
     "text": [
      "['grapes', 'apple', 'kiwi']\n"
     ]
    }
   ],
   "source": [
    "fruits = ['grapes','apple']\n",
    "fruits.append('kiwi')\n",
    "print(fruits)"
   ]
  },
  {
   "attachments": {},
   "cell_type": "markdown",
   "metadata": {},
   "source": [
    "- insert()\n",
    "- it can store data at any position"
   ]
  },
  {
   "cell_type": "code",
   "execution_count": 17,
   "metadata": {},
   "outputs": [
    {
     "name": "stdout",
     "output_type": "stream",
     "text": [
      "['mango', 'orange', 'guava', 'banana', 'kiwi']\n"
     ]
    }
   ],
   "source": [
    "fruits = ['mango','orange','banana','kiwi']\n",
    "fruits.insert(2,'guava')\n",
    "print(fruits)"
   ]
  },
  {
   "attachments": {},
   "cell_type": "markdown",
   "metadata": {},
   "source": [
    "- adding 2 lists and assigning it into a 3rd list"
   ]
  },
  {
   "cell_type": "code",
   "execution_count": 18,
   "metadata": {},
   "outputs": [
    {
     "name": "stdout",
     "output_type": "stream",
     "text": [
      "['mango', 'kiwi', 'orange', 'banana']\n"
     ]
    }
   ],
   "source": [
    "fru1 = ['mango','kiwi']\n",
    "fru2 = ['orange','banana']\n",
    "fru3 = fru1+fru2\n",
    "print(fru3)"
   ]
  },
  {
   "attachments": {},
   "cell_type": "markdown",
   "metadata": {},
   "source": [
    "- extend() \n",
    "- it extends the list"
   ]
  },
  {
   "cell_type": "code",
   "execution_count": 20,
   "metadata": {},
   "outputs": [
    {
     "name": "stdout",
     "output_type": "stream",
     "text": [
      "['mango', 'kiwi', 'orange', 'banana']\n"
     ]
    }
   ],
   "source": [
    "fru1.extend(fru2)\n",
    "print(fru1)"
   ]
  },
  {
   "attachments": {},
   "cell_type": "markdown",
   "metadata": {},
   "source": [
    "- if we use append here then the list will be added to another list hence a nested list created"
   ]
  },
  {
   "cell_type": "code",
   "execution_count": 21,
   "metadata": {},
   "outputs": [
    {
     "name": "stdout",
     "output_type": "stream",
     "text": [
      "['mango', 'grapes', ['orange', 'banana']]\n"
     ]
    }
   ],
   "source": [
    "fru1 = ['mango','grapes']\n",
    "fru2 = ['orange','banana']\n",
    "fru1.append(fru2)\n",
    "print(fru1)"
   ]
  },
  {
   "attachments": {},
   "cell_type": "markdown",
   "metadata": {},
   "source": [
    "#### deleting data from list"
   ]
  },
  {
   "attachments": {},
   "cell_type": "markdown",
   "metadata": {},
   "source": [
    "- using pop() method\n",
    "- it return the element that can be stored into a variable\n",
    "- we can also specify the index"
   ]
  },
  {
   "cell_type": "code",
   "execution_count": 22,
   "metadata": {},
   "outputs": [
    {
     "name": "stdout",
     "output_type": "stream",
     "text": [
      "['ornage', 'apple', 'pear', 'banana']\n",
      "kiwi\n"
     ]
    }
   ],
   "source": [
    "fruits = ['ornage','apple','pear','banana','kiwi']\n",
    "poped = fruits.pop()\n",
    "print(fruits)\n",
    "print(poped)\n"
   ]
  },
  {
   "cell_type": "code",
   "execution_count": 23,
   "metadata": {},
   "outputs": [
    {
     "name": "stdout",
     "output_type": "stream",
     "text": [
      "['ornage', 'apple', 'banana', 'kiwi']\n",
      "pear\n"
     ]
    }
   ],
   "source": [
    "fruits = ['ornage','apple','pear','banana','kiwi']\n",
    "poped = fruits.pop(2)\n",
    "print(fruits)\n",
    "print(poped)"
   ]
  },
  {
   "attachments": {},
   "cell_type": "markdown",
   "metadata": {},
   "source": [
    "- using del\n",
    "- it do not return anything"
   ]
  },
  {
   "cell_type": "code",
   "execution_count": 24,
   "metadata": {},
   "outputs": [
    {
     "name": "stdout",
     "output_type": "stream",
     "text": [
      "['ornage', 'apple', 'banana', 'kiwi']\n"
     ]
    }
   ],
   "source": [
    "fruits = ['ornage','apple','pear','banana','kiwi']\n",
    "del fruits[2]\n",
    "print(fruits)"
   ]
  },
  {
   "attachments": {},
   "cell_type": "markdown",
   "metadata": {},
   "source": [
    "- using remove()\n",
    "- we can specify name here\n",
    "- it do not return anything\n",
    "- if value do not found it returns an error"
   ]
  },
  {
   "cell_type": "code",
   "execution_count": 26,
   "metadata": {},
   "outputs": [
    {
     "name": "stdout",
     "output_type": "stream",
     "text": [
      "['ornage', 'apple', 'pear', 'kiwi']\n"
     ]
    }
   ],
   "source": [
    "fruits = ['ornage','apple','pear','banana','kiwi']\n",
    "fruits.remove('banana')\n",
    "print(fruits)"
   ]
  },
  {
   "attachments": {},
   "cell_type": "markdown",
   "metadata": {},
   "source": [
    "#### in keyword"
   ]
  },
  {
   "cell_type": "code",
   "execution_count": 27,
   "metadata": {},
   "outputs": [
    {
     "name": "stdout",
     "output_type": "stream",
     "text": [
      "apple is present\n"
     ]
    }
   ],
   "source": [
    "fruits = ['orange','apple','pear','banana','kiwi']\n",
    "if 'apple' in fruits:\n",
    "    print('apple is present')\n",
    "else:\n",
    "    print('apple is not present')"
   ]
  },
  {
   "attachments": {},
   "cell_type": "markdown",
   "metadata": {},
   "source": [
    "#### some more methods"
   ]
  },
  {
   "attachments": {},
   "cell_type": "markdown",
   "metadata": {},
   "source": [
    "- count()\n",
    "- count the specific element in the list"
   ]
  },
  {
   "cell_type": "code",
   "execution_count": 1,
   "metadata": {},
   "outputs": [
    {
     "name": "stdout",
     "output_type": "stream",
     "text": [
      "2\n"
     ]
    }
   ],
   "source": [
    "fruits = ['orange','apple','pear','banana','kiwi','apple','banana']\n",
    "print(fruits.count('apple'))"
   ]
  },
  {
   "attachments": {},
   "cell_type": "markdown",
   "metadata": {},
   "source": [
    "- sort()\n",
    "- sorts the list"
   ]
  },
  {
   "cell_type": "code",
   "execution_count": 3,
   "metadata": {},
   "outputs": [
    {
     "name": "stdout",
     "output_type": "stream",
     "text": [
      "Unsorted\n",
      "['orange', 'apple', 'pear', 'banana', 'kiwi', 'apple', 'banana']\n",
      "\n",
      "Sorted\n",
      "['apple', 'apple', 'banana', 'banana', 'kiwi', 'orange', 'pear']\n"
     ]
    }
   ],
   "source": [
    "fruits = ['orange','apple','pear','banana','kiwi','apple','banana']\n",
    "\n",
    "print('Unsorted')\n",
    "print(fruits)\n",
    "print()\n",
    "fruits.sort()\n",
    "print('Sorted')\n",
    "print(fruits)"
   ]
  },
  {
   "cell_type": "code",
   "execution_count": 5,
   "metadata": {},
   "outputs": [
    {
     "name": "stdout",
     "output_type": "stream",
     "text": [
      "Unsorted\n",
      "[3, 5, 1, 9, 10]\n",
      "\n",
      "Sorted\n",
      "[1, 3, 5, 9, 10]\n"
     ]
    }
   ],
   "source": [
    "numbers = [3,5,1,9,10]\n",
    "\n",
    "print('Unsorted')\n",
    "print(numbers)\n",
    "print()\n",
    "numbers.sort()\n",
    "print('Sorted')\n",
    "print(numbers)"
   ]
  },
  {
   "attachments": {},
   "cell_type": "markdown",
   "metadata": {},
   "source": [
    "- sorted()\n",
    "- do not sort the original list but\n",
    "- print the sorted list using print "
   ]
  },
  {
   "cell_type": "code",
   "execution_count": 6,
   "metadata": {},
   "outputs": [
    {
     "name": "stdout",
     "output_type": "stream",
     "text": [
      "original list\n",
      "[3, 5, 1, 9, 10]\n",
      "\n",
      "sorted\n",
      "[1, 3, 5, 9, 10]\n",
      "\n",
      "again original\n",
      "[3, 5, 1, 9, 10]\n"
     ]
    }
   ],
   "source": [
    "numbers = [3,5,1,9,10]\n",
    "print('original list')\n",
    "print(numbers)\n",
    "print()\n",
    "\n",
    "print('sorted')\n",
    "print(sorted(numbers))\n",
    "print()\n",
    "\n",
    "print('again original')\n",
    "print(numbers)"
   ]
  },
  {
   "attachments": {},
   "cell_type": "markdown",
   "metadata": {},
   "source": [
    "- clear()\n",
    "- clears the original list"
   ]
  },
  {
   "cell_type": "code",
   "execution_count": 7,
   "metadata": {},
   "outputs": [
    {
     "name": "stdout",
     "output_type": "stream",
     "text": [
      "original list\n",
      "[3, 5, 1, 9, 10]\n",
      "\n",
      "cleared list\n",
      "[]\n"
     ]
    }
   ],
   "source": [
    "numbers = [3,5,1,9,10]\n",
    "print('original list')\n",
    "print(numbers)\n",
    "print()\n",
    "\n",
    "numbers.clear()\n",
    "\n",
    "print('cleared list')\n",
    "print(numbers)"
   ]
  },
  {
   "attachments": {},
   "cell_type": "markdown",
   "metadata": {},
   "source": [
    "- copy()\n",
    "- to make a copy"
   ]
  },
  {
   "cell_type": "code",
   "execution_count": 8,
   "metadata": {},
   "outputs": [
    {
     "name": "stdout",
     "output_type": "stream",
     "text": [
      "original list\n",
      "[3, 5, 1, 9, 10]\n",
      "\n",
      "copy\n",
      "[3, 5, 1, 9, 10]\n",
      "\n",
      "changing original list\n",
      "[3, 5, 1, 9]\n",
      "\n",
      "printing the copy of previous one\n",
      "[3, 5, 1, 9, 10]\n"
     ]
    }
   ],
   "source": [
    "numbers = [3,5,1,9,10]\n",
    "print('original list')\n",
    "print(numbers)\n",
    "print()\n",
    "\n",
    "print('copy')\n",
    "nums2 = numbers.copy()\n",
    "print(nums2)\n",
    "print()\n",
    "\n",
    "print('changing original list')\n",
    "numbers.pop()\n",
    "print(numbers)\n",
    "print()\n",
    "\n",
    "print('printing the copy of previous one')\n",
    "print(nums2)"
   ]
  },
  {
   "attachments": {},
   "cell_type": "markdown",
   "metadata": {},
   "source": [
    "- 'is' VS '=='\n",
    "- double equal checks for values\n",
    "- is checks for address"
   ]
  },
  {
   "cell_type": "code",
   "execution_count": 13,
   "metadata": {},
   "outputs": [
    {
     "name": "stdout",
     "output_type": "stream",
     "text": [
      "fru1 == fru2\n",
      "values are same\n",
      "True\n",
      "\n",
      "fru1 is fru2\n",
      "checks for address\n",
      "True\n",
      "\n",
      "fru1 == fru3\n",
      "values are not same\n",
      "False\n",
      "\n"
     ]
    }
   ],
   "source": [
    "fru1 = ['orange','apple','pear']\n",
    "fru2 = ['orange','apple','pear']\n",
    "fru3 = ['banana','kiwi','apple','banana']\n",
    "\n",
    "print('fru1 == fru2')\n",
    "print('values are same')\n",
    "print(fru1 == fru2)\n",
    "print()\n",
    "print('fru1 is fru2')\n",
    "print('checks for address')\n",
    "print(fru1 == fru2)\n",
    "print()\n",
    "\n",
    "print('fru1 == fru3')\n",
    "print('values are not same')\n",
    "print(fru1 == fru3)\n",
    "print()\n",
    "\n"
   ]
  },
  {
   "attachments": {},
   "cell_type": "markdown",
   "metadata": {},
   "source": [
    "#### join and split methods"
   ]
  },
  {
   "attachments": {},
   "cell_type": "markdown",
   "metadata": {},
   "source": [
    "- split() method\n",
    "- convert string to list"
   ]
  },
  {
   "attachments": {},
   "cell_type": "markdown",
   "metadata": {},
   "source": [
    "- dividing the string using , and storing it into user_info\n",
    "- user_info will be a list now"
   ]
  },
  {
   "cell_type": "code",
   "execution_count": 15,
   "metadata": {},
   "outputs": [
    {
     "name": "stdout",
     "output_type": "stream",
     "text": [
      "['Gorish Verma', '24']\n"
     ]
    }
   ],
   "source": [
    "user_info = 'Gorish Verma,24'.split(',')\n",
    "print(user_info)"
   ]
  },
  {
   "attachments": {},
   "cell_type": "markdown",
   "metadata": {},
   "source": [
    "- dividing the user_info string into 2 different variables"
   ]
  },
  {
   "cell_type": "code",
   "execution_count": 16,
   "metadata": {},
   "outputs": [
    {
     "name": "stdout",
     "output_type": "stream",
     "text": [
      "Gorish Verma\n",
      "24\n"
     ]
    }
   ],
   "source": [
    "user_info = 'Gorish Verma,24'\n",
    "name,age = user_info.split(',')\n",
    "print(name)\n",
    "print(age)"
   ]
  },
  {
   "attachments": {},
   "cell_type": "markdown",
   "metadata": {},
   "source": [
    "- join() method\n",
    "- convert list to string"
   ]
  },
  {
   "attachments": {},
   "cell_type": "markdown",
   "metadata": {},
   "source": [
    "- joining the list elements and converting them into a string"
   ]
  },
  {
   "cell_type": "code",
   "execution_count": 18,
   "metadata": {},
   "outputs": [
    {
     "name": "stdout",
     "output_type": "stream",
     "text": [
      "Gorish Verma,24\n",
      "\n",
      "['Gorish Verma', '24']\n"
     ]
    }
   ],
   "source": [
    "user_info = ['Gorish Verma','24']\n",
    "print(','.join(user_info))\n",
    "print()\n",
    "\n",
    "print(user_info)"
   ]
  },
  {
   "attachments": {},
   "cell_type": "markdown",
   "metadata": {},
   "source": [
    "#### list Vs array"
   ]
  },
  {
   "attachments": {},
   "cell_type": "markdown",
   "metadata": {},
   "source": [
    "- list\n",
    "- 1. ordered collection of elements\n",
    "- 2. it can store many types of data types\n",
    "- array\n",
    "- 1. ordered collection of homogenous elements\n",
    "- 2. it can store only single type of elements"
   ]
  },
  {
   "attachments": {},
   "cell_type": "markdown",
   "metadata": {},
   "source": [
    "#### list Vs strings"
   ]
  },
  {
   "attachments": {},
   "cell_type": "markdown",
   "metadata": {},
   "source": [
    "- strings\n",
    "- 1. strings are immutable\n",
    "- lists\n",
    "- 1. lists are mutable"
   ]
  },
  {
   "attachments": {},
   "cell_type": "markdown",
   "metadata": {},
   "source": [
    "#### Loopin in List"
   ]
  },
  {
   "cell_type": "code",
   "execution_count": 19,
   "metadata": {},
   "outputs": [
    {
     "name": "stdout",
     "output_type": "stream",
     "text": [
      "orange apple pear banana kiwi "
     ]
    }
   ],
   "source": [
    "fruits = ['orange','apple','pear','banana','kiwi']\n",
    "for fruit in fruits:\n",
    "    print(fruit,end=' ')"
   ]
  },
  {
   "cell_type": "code",
   "execution_count": 20,
   "metadata": {},
   "outputs": [
    {
     "name": "stdout",
     "output_type": "stream",
     "text": [
      "orange apple pear banana kiwi "
     ]
    }
   ],
   "source": [
    "fruits = ['orange','apple','pear','banana','kiwi']\n",
    "i = 0\n",
    "while (i<len(fruits)):\n",
    "    print(fruits[i],end=' ')\n",
    "    i+=1"
   ]
  },
  {
   "attachments": {},
   "cell_type": "markdown",
   "metadata": {},
   "source": [
    "#### list inside list"
   ]
  },
  {
   "attachments": {},
   "cell_type": "markdown",
   "metadata": {},
   "source": [
    "- looping through nested list"
   ]
  },
  {
   "cell_type": "code",
   "execution_count": 22,
   "metadata": {},
   "outputs": [
    {
     "name": "stdout",
     "output_type": "stream",
     "text": [
      "[1, 2, 3]\n",
      "[4, 5, 6]\n",
      "[7, 8, 9]\n"
     ]
    }
   ],
   "source": [
    "matrix = [[1,2,3],[4,5,6],[7,8,9]]\n",
    "for sub_list in matrix:\n",
    "    print(sub_list)"
   ]
  },
  {
   "attachments": {},
   "cell_type": "markdown",
   "metadata": {},
   "source": [
    "- printing each element "
   ]
  },
  {
   "cell_type": "code",
   "execution_count": 25,
   "metadata": {},
   "outputs": [
    {
     "name": "stdout",
     "output_type": "stream",
     "text": [
      "1 2 3 4 5 6 7 8 9 "
     ]
    }
   ],
   "source": [
    "for sub_list in matrix:\n",
    "    for elements in sub_list:\n",
    "        print(elements,end=' ')"
   ]
  },
  {
   "attachments": {},
   "cell_type": "markdown",
   "metadata": {},
   "source": [
    "- printing any element"
   ]
  },
  {
   "cell_type": "code",
   "execution_count": 26,
   "metadata": {},
   "outputs": [
    {
     "data": {
      "text/plain": [
       "6"
      ]
     },
     "execution_count": 26,
     "metadata": {},
     "output_type": "execute_result"
    }
   ],
   "source": [
    "matrix[1][2]"
   ]
  },
  {
   "attachments": {},
   "cell_type": "markdown",
   "metadata": {},
   "source": [
    "#### more about list"
   ]
  },
  {
   "attachments": {},
   "cell_type": "markdown",
   "metadata": {},
   "source": [
    "- generate lists with range functions"
   ]
  },
  {
   "cell_type": "code",
   "execution_count": 27,
   "metadata": {},
   "outputs": [
    {
     "name": "stdout",
     "output_type": "stream",
     "text": [
      "[1, 2, 3, 4, 5, 6, 7, 8, 9, 10]\n"
     ]
    }
   ],
   "source": [
    "nums = list(range(1,11))\n",
    "print(nums)"
   ]
  },
  {
   "attachments": {},
   "cell_type": "markdown",
   "metadata": {},
   "source": [
    "- something more about pop"
   ]
  },
  {
   "cell_type": "code",
   "execution_count": 30,
   "metadata": {},
   "outputs": [
    {
     "name": "stdout",
     "output_type": "stream",
     "text": [
      "[1, 2, 3, 4, 5, 6, 7, 8, 9, 10]\n",
      "\n",
      "10\n",
      "\n",
      "[1, 2, 3, 4, 5, 6, 7, 8, 9]\n"
     ]
    }
   ],
   "source": [
    "nums = list(range(1,11))\n",
    "print(nums)\n",
    "print()\n",
    "\n",
    "# pop returns the value which we are storing in a variable\n",
    "x = nums.pop()\n",
    "print(x)\n",
    "print()\n",
    "print(nums)"
   ]
  },
  {
   "attachments": {},
   "cell_type": "markdown",
   "metadata": {},
   "source": [
    "- index  method"
   ]
  },
  {
   "cell_type": "code",
   "execution_count": 31,
   "metadata": {},
   "outputs": [
    {
     "name": "stdout",
     "output_type": "stream",
     "text": [
      "4\n"
     ]
    }
   ],
   "source": [
    "# printing index of element\n",
    "print(nums.index(5))"
   ]
  },
  {
   "cell_type": "code",
   "execution_count": 33,
   "metadata": {},
   "outputs": [
    {
     "name": "stdout",
     "output_type": "stream",
     "text": [
      "9\n"
     ]
    }
   ],
   "source": [
    "# if element is at another position or duplicate then finding\n",
    "nums = [1,2,3,4,5,6,7,8,9,1,2,1]\n",
    "\n",
    "# find 1 start searching from index 2\n",
    "# we can also specify the stop position\n",
    "print(nums.index(1,2))"
   ]
  },
  {
   "attachments": {},
   "cell_type": "markdown",
   "metadata": {},
   "source": [
    "- passing list to a function"
   ]
  },
  {
   "cell_type": "code",
   "execution_count": 34,
   "metadata": {},
   "outputs": [
    {
     "name": "stdout",
     "output_type": "stream",
     "text": [
      "[-1, -2, -3, -4, -5, -6, -7, -8, -9, -10]\n"
     ]
    }
   ],
   "source": [
    "def negative_list(l):\n",
    "    negative = []\n",
    "    for i in l:\n",
    "        negative.append(-i)\n",
    "    return(negative)\n",
    "\n",
    "print(negative_list([1,2,3,4,5,6,7,8,9,10]))\n"
   ]
  },
  {
   "attachments": {},
   "cell_type": "markdown",
   "metadata": {},
   "source": [
    "- excercise\n",
    "- define a function which will take list containing numbers as input and return list containing square of every elements"
   ]
  },
  {
   "cell_type": "code",
   "execution_count": 35,
   "metadata": {},
   "outputs": [
    {
     "name": "stdout",
     "output_type": "stream",
     "text": [
      "[1, 4, 9, 16, 25, 36, 49, 64, 81, 100]\n"
     ]
    }
   ],
   "source": [
    "def square(l):\n",
    "    sq = []\n",
    "    for i in l:\n",
    "        sq.append(i**2)\n",
    "\n",
    "    return sq\n",
    "\n",
    "print(square([1,2,3,4,5,6,7,8,9,10]))"
   ]
  },
  {
   "attachments": {},
   "cell_type": "markdown",
   "metadata": {},
   "source": [
    "- excercise\n",
    "- define a function which will take list as a argument and this function will return a reversed list\n",
    "- You can do this by simply using [::-1]\n",
    "- but try to do this with the help of append and return method"
   ]
  },
  {
   "cell_type": "code",
   "execution_count": 36,
   "metadata": {},
   "outputs": [
    {
     "name": "stdout",
     "output_type": "stream",
     "text": [
      "[10, 9, 8, 7, 6, 5, 4, 3, 2, 1]\n"
     ]
    }
   ],
   "source": [
    "def reversed(l):\n",
    "    re = []\n",
    "    for i in range(len(l)):\n",
    "        poped = l.pop()\n",
    "        re.append(poped)\n",
    "\n",
    "    return re\n",
    "\n",
    "print(reversed([1,2,3,4,5,6,7,8,9,10]))\n"
   ]
  },
  {
   "attachments": {},
   "cell_type": "markdown",
   "metadata": {},
   "source": [
    "- excercise\n",
    "- define a function that take list of words as aggument and return list with reverse of every element in that list\n",
    "- ex\n",
    "- ['abc','tuv','xyz'] => ['cba','vut','zyx']\n"
   ]
  },
  {
   "cell_type": "code",
   "execution_count": 42,
   "metadata": {},
   "outputs": [
    {
     "name": "stdout",
     "output_type": "stream",
     "text": [
      "['cba', 'vut', 'zyx']\n"
     ]
    }
   ],
   "source": [
    "def word_reversed(l):\n",
    "    reverse = []\n",
    "    for i in l:\n",
    "        reverse.append(i[::-1])\n",
    "\n",
    "    return reverse\n",
    "\n",
    "print(word_reversed(['abc','tuv','xyz']))"
   ]
  },
  {
   "attachments": {},
   "cell_type": "markdown",
   "metadata": {},
   "source": [
    "- excercise\n",
    "- filter odd even\n",
    "- define a function\n",
    "- input \n",
    "- list => [1,2,3,4,5,6,7]\n",
    "- output => [[1,3,5,7],[2,4,6]]"
   ]
  },
  {
   "cell_type": "code",
   "execution_count": 43,
   "metadata": {},
   "outputs": [
    {
     "name": "stdout",
     "output_type": "stream",
     "text": [
      "[[1, 3, 5, 7, 9], [2, 4, 6, 8, 10]]\n"
     ]
    }
   ],
   "source": [
    "def odd_even(l):\n",
    "    odd,even = [],[]\n",
    "    for i in l:\n",
    "        if i%2==0:\n",
    "            even.append(i)\n",
    "        else:\n",
    "            odd.append(i)\n",
    "\n",
    "    return [odd,even]\n",
    "\n",
    "\n",
    "print(odd_even([1,2,3,4,5,6,7,8,9,10]))"
   ]
  },
  {
   "attachments": {},
   "cell_type": "markdown",
   "metadata": {},
   "source": [
    "- excercise\n",
    "- common elements finder function\n",
    "- define a function which take 2 lists as input and return a list which contains common elements of both lists.\n",
    "- example\n",
    "- input => [1,2,5,8],[1,2,7,6]\n",
    "- output => [1,2]"
   ]
  },
  {
   "cell_type": "code",
   "execution_count": 51,
   "metadata": {},
   "outputs": [
    {
     "name": "stdout",
     "output_type": "stream",
     "text": [
      "[1, 2]\n"
     ]
    }
   ],
   "source": [
    "def common(l1,l2):\n",
    "    common = []\n",
    "    for i in l1:\n",
    "        if i in l2:\n",
    "            common.append(i)\n",
    "\n",
    "    return common\n",
    "\n",
    "\n",
    "print(common([1,2,5,8],[1,2,7,6]))"
   ]
  },
  {
   "attachments": {},
   "cell_type": "markdown",
   "metadata": {},
   "source": [
    "#### min and max functions"
   ]
  },
  {
   "attachments": {},
   "cell_type": "markdown",
   "metadata": {},
   "source": [
    "- min"
   ]
  },
  {
   "cell_type": "code",
   "execution_count": 52,
   "metadata": {},
   "outputs": [
    {
     "name": "stdout",
     "output_type": "stream",
     "text": [
      "2\n"
     ]
    }
   ],
   "source": [
    "numbers = [6,60,2,4,5,3,5]\n",
    "print(min(numbers))"
   ]
  },
  {
   "attachments": {},
   "cell_type": "markdown",
   "metadata": {},
   "source": [
    "- max"
   ]
  },
  {
   "cell_type": "code",
   "execution_count": 54,
   "metadata": {},
   "outputs": [
    {
     "name": "stdout",
     "output_type": "stream",
     "text": [
      "60\n"
     ]
    }
   ],
   "source": [
    "numbers = [6,60,2,4,5,3,5]\n",
    "print(max(numbers))"
   ]
  },
  {
   "attachments": {},
   "cell_type": "markdown",
   "metadata": {},
   "source": [
    "- difference"
   ]
  },
  {
   "cell_type": "code",
   "execution_count": 55,
   "metadata": {},
   "outputs": [
    {
     "name": "stdout",
     "output_type": "stream",
     "text": [
      "58\n"
     ]
    }
   ],
   "source": [
    "def difference(l):\n",
    "    return max(l) - min(l)\n",
    "\n",
    "print(difference([6,60,2,4,5,3,5]))"
   ]
  },
  {
   "attachments": {},
   "cell_type": "markdown",
   "metadata": {},
   "source": [
    "- excercise\n",
    "- function that accepts a nested list\n",
    "- output number of lists in the output"
   ]
  },
  {
   "cell_type": "code",
   "execution_count": 57,
   "metadata": {},
   "outputs": [
    {
     "name": "stdout",
     "output_type": "stream",
     "text": [
      "3\n"
     ]
    }
   ],
   "source": [
    "def list_count(nl):\n",
    "    no = 0\n",
    "    for i in nl:\n",
    "        if type(i) == list:\n",
    "            no+=1\n",
    "\n",
    "    return no\n",
    "\n",
    "print(list_count([1,2,3,[1,2],[3,4],[9,6],4.5]))"
   ]
  },
  {
   "cell_type": "code",
   "execution_count": null,
   "metadata": {},
   "outputs": [],
   "source": []
  }
 ],
 "metadata": {
  "kernelspec": {
   "display_name": "Python 3",
   "language": "python",
   "name": "python3"
  },
  "language_info": {
   "codemirror_mode": {
    "name": "ipython",
    "version": 3
   },
   "file_extension": ".py",
   "mimetype": "text/x-python",
   "name": "python",
   "nbconvert_exporter": "python",
   "pygments_lexer": "ipython3",
   "version": "3.10.7"
  },
  "orig_nbformat": 4
 },
 "nbformat": 4,
 "nbformat_minor": 2
}
