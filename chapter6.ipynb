{
 "cells": [
  {
   "attachments": {},
   "cell_type": "markdown",
   "metadata": {},
   "source": [
    "#### Intro To Tuples\n",
    "- tuple can store any data type\n",
    "- most important tuples are immutable, once tuple is created you can't update data inside tuple.\n",
    "- no append, no insert, no pop, no remove\n",
    "- data is in round braces ()\n",
    "- tuples are faster than lists"
   ]
  },
  {
   "cell_type": "code",
   "execution_count": 1,
   "metadata": {},
   "outputs": [
    {
     "name": "stdout",
     "output_type": "stream",
     "text": [
      "(1, 2, 3, 'one', 'two', 3.5)\n"
     ]
    }
   ],
   "source": [
    "t = (1,2,3,'one','two',3.5)\n",
    "print(t)"
   ]
  },
  {
   "attachments": {},
   "cell_type": "markdown",
   "metadata": {},
   "source": [
    "- tuple with one element"
   ]
  },
  {
   "cell_type": "code",
   "execution_count": 2,
   "metadata": {},
   "outputs": [
    {
     "name": "stdout",
     "output_type": "stream",
     "text": [
      "(1,)\n",
      "<class 'tuple'>\n"
     ]
    }
   ],
   "source": [
    "t = (1,)\n",
    "print(t)\n",
    "print(type(t))"
   ]
  },
  {
   "attachments": {},
   "cell_type": "markdown",
   "metadata": {},
   "source": [
    "- we can use count, index method with tuples only\n",
    "- we can use len() function with tuples"
   ]
  },
  {
   "attachments": {},
   "cell_type": "markdown",
   "metadata": {},
   "source": [
    "- mixed"
   ]
  },
  {
   "cell_type": "code",
   "execution_count": 3,
   "metadata": {},
   "outputs": [
    {
     "name": "stdout",
     "output_type": "stream",
     "text": [
      "(1, 2, 3, 4.5, 'five', [6, 7], (8, 9), {'name': 'Gorish'})\n"
     ]
    }
   ],
   "source": [
    "mixed = (1,2,3,4.5,'five',[6,7],(8,9),{'name':\"Gorish\"})\n",
    "print(mixed)"
   ]
  },
  {
   "attachments": {},
   "cell_type": "markdown",
   "metadata": {},
   "source": [
    "- looping through tuple"
   ]
  },
  {
   "cell_type": "code",
   "execution_count": 4,
   "metadata": {},
   "outputs": [
    {
     "name": "stdout",
     "output_type": "stream",
     "text": [
      "1\n",
      "2\n",
      "3\n",
      "4.5\n",
      "five\n",
      "[6, 7]\n",
      "(8, 9)\n",
      "{'name': 'Gorish'}\n"
     ]
    }
   ],
   "source": [
    "mixed = (1,2,3,4.5,'five',[6,7],(8,9),{'name':\"Gorish\"})\n",
    "for element in mixed:\n",
    "    print(element)"
   ]
  },
  {
   "attachments": {},
   "cell_type": "markdown",
   "metadata": {},
   "source": [
    "- tuple without parenthesis"
   ]
  },
  {
   "cell_type": "code",
   "execution_count": 6,
   "metadata": {},
   "outputs": [
    {
     "name": "stdout",
     "output_type": "stream",
     "text": [
      "('Gorish Verma', 'Prashant Soni', 'Mayank Saini')\n",
      "<class 'tuple'>\n"
     ]
    }
   ],
   "source": [
    "names = \"Gorish Verma\",'Prashant Soni','Mayank Saini'\n",
    "print(names)\n",
    "print(type(names))"
   ]
  },
  {
   "attachments": {},
   "cell_type": "markdown",
   "metadata": {},
   "source": [
    "- tuple unpackging"
   ]
  },
  {
   "cell_type": "code",
   "execution_count": 7,
   "metadata": {},
   "outputs": [
    {
     "name": "stdout",
     "output_type": "stream",
     "text": [
      "maneli\n",
      "eddie\n",
      "andrew\n"
     ]
    }
   ],
   "source": [
    "guitars = ('maneli','eddie','andrew')\n",
    "g1,g2,g3 = guitars\n",
    "print(g1)\n",
    "print(g2)\n",
    "print(g3)"
   ]
  },
  {
   "attachments": {},
   "cell_type": "markdown",
   "metadata": {},
   "source": [
    "- we can change or delete data inside list (inside tuple)"
   ]
  },
  {
   "cell_type": "code",
   "execution_count": 8,
   "metadata": {},
   "outputs": [
    {
     "name": "stdout",
     "output_type": "stream",
     "text": [
      "('southern', ['tokyo', 'landscape'])\n",
      "('southern', ['new element', 'landscape'])\n"
     ]
    }
   ],
   "source": [
    "favs = ('southern',['tokyo','landscape'])\n",
    "print(favs)\n",
    "\n",
    "favs[1][0] = 'new element'\n",
    "print(favs)"
   ]
  },
  {
   "attachments": {},
   "cell_type": "markdown",
   "metadata": {},
   "source": [
    "- min max"
   ]
  },
  {
   "cell_type": "code",
   "execution_count": 9,
   "metadata": {},
   "outputs": [
    {
     "name": "stdout",
     "output_type": "stream",
     "text": [
      "1021\n",
      "1\n",
      "1020\n"
     ]
    }
   ],
   "source": [
    "mixed = (1,3,7,5.4,936,54.6,1021)\n",
    "print(max(mixed))\n",
    "print(min(mixed))\n",
    "print(max(mixed)-min(mixed))"
   ]
  },
  {
   "attachments": {},
   "cell_type": "markdown",
   "metadata": {},
   "source": [
    "- function returning 2 values\n",
    "- when function returns 2 or more than 2 values it returns in tuple"
   ]
  },
  {
   "cell_type": "code",
   "execution_count": 11,
   "metadata": {},
   "outputs": [
    {
     "name": "stdout",
     "output_type": "stream",
     "text": [
      "(130, 3825)\n",
      "141\n",
      "4320\n"
     ]
    }
   ],
   "source": [
    "def func(n1,n2):\n",
    "    add = n1+n2\n",
    "    mult = n1*n2\n",
    "    return add,mult\n",
    "\n",
    "print(func(45,85))\n",
    "add, mult = func(45,96)\n",
    "print(add)\n",
    "print(mult)"
   ]
  },
  {
   "attachments": {},
   "cell_type": "markdown",
   "metadata": {},
   "source": [
    "- something more about tuples, list, str"
   ]
  },
  {
   "attachments": {},
   "cell_type": "markdown",
   "metadata": {},
   "source": [
    "- tuples creation using range"
   ]
  },
  {
   "cell_type": "code",
   "execution_count": 12,
   "metadata": {},
   "outputs": [
    {
     "name": "stdout",
     "output_type": "stream",
     "text": [
      "(1, 2, 3, 4, 5, 6, 7, 8, 9, 10)\n"
     ]
    }
   ],
   "source": [
    "t = tuple(range(1,11))\n",
    "print(t)"
   ]
  },
  {
   "attachments": {},
   "cell_type": "markdown",
   "metadata": {},
   "source": [
    "- changing tuple into list"
   ]
  },
  {
   "cell_type": "code",
   "execution_count": 14,
   "metadata": {},
   "outputs": [
    {
     "name": "stdout",
     "output_type": "stream",
     "text": [
      "[1, 2, 3, 5, 4]\n",
      "<class 'list'>\n"
     ]
    }
   ],
   "source": [
    "t = list((1,2,3,5,4))\n",
    "print(t)\n",
    "print(type(t))"
   ]
  },
  {
   "attachments": {},
   "cell_type": "markdown",
   "metadata": {},
   "source": [
    "- changing tuple into string"
   ]
  },
  {
   "cell_type": "code",
   "execution_count": 16,
   "metadata": {},
   "outputs": [
    {
     "name": "stdout",
     "output_type": "stream",
     "text": [
      "(1, 2, 3, 5, 4)\n",
      "<class 'str'>\n"
     ]
    }
   ],
   "source": [
    "t = str((1,2,3,5,4))\n",
    "print(t)\n",
    "print(type(t))"
   ]
  },
  {
   "attachments": {},
   "cell_type": "markdown",
   "metadata": {},
   "source": [
    "- len()"
   ]
  },
  {
   "cell_type": "code",
   "execution_count": 17,
   "metadata": {},
   "outputs": [
    {
     "name": "stdout",
     "output_type": "stream",
     "text": [
      "length of tuple is 5\n"
     ]
    }
   ],
   "source": [
    "t = (1,2,3,4,5)\n",
    "print(f'length of tuple is {len(t)}')"
   ]
  },
  {
   "attachments": {},
   "cell_type": "markdown",
   "metadata": {},
   "source": [
    "- sum()"
   ]
  },
  {
   "cell_type": "code",
   "execution_count": 18,
   "metadata": {},
   "outputs": [
    {
     "name": "stdout",
     "output_type": "stream",
     "text": [
      "sum of the elements of tuple is 15\n"
     ]
    }
   ],
   "source": [
    "t =  (1,2,3,4,5)\n",
    "print(f'sum of the elements of tuple is {sum(t)}')"
   ]
  },
  {
   "cell_type": "code",
   "execution_count": null,
   "metadata": {},
   "outputs": [],
   "source": []
  }
 ],
 "metadata": {
  "kernelspec": {
   "display_name": "Python 3",
   "language": "python",
   "name": "python3"
  },
  "language_info": {
   "codemirror_mode": {
    "name": "ipython",
    "version": 3
   },
   "file_extension": ".py",
   "mimetype": "text/x-python",
   "name": "python",
   "nbconvert_exporter": "python",
   "pygments_lexer": "ipython3",
   "version": "3.10.7"
  },
  "orig_nbformat": 4
 },
 "nbformat": 4,
 "nbformat_minor": 2
}
