{
 "cells": [
  {
   "attachments": {},
   "cell_type": "markdown",
   "metadata": {},
   "source": [
    "#### Intro to Dictionaries"
   ]
  },
  {
   "attachments": {},
   "cell_type": "markdown",
   "metadata": {},
   "source": [
    "- Q - Why we use dictionaries?\n",
    "- Ans - Because of limitations of lists, lists are not enough to represent real data."
   ]
  },
  {
   "cell_type": "code",
   "execution_count": 2,
   "metadata": {},
   "outputs": [],
   "source": [
    "# exaple\n",
    "user = ['Gorish',24,['coco','dragon','awakening','fairy tale']]"
   ]
  },
  {
   "attachments": {},
   "cell_type": "markdown",
   "metadata": {},
   "source": [
    "- this list contains user name, age, fav movies, fav tunes.\n",
    "- you can do this but this is not a good way to do this."
   ]
  },
  {
   "attachments": {},
   "cell_type": "markdown",
   "metadata": {},
   "source": [
    "- Q - What are dictionaries?\n",
    "- Ans - unordered collections of data in key: value pair."
   ]
  },
  {
   "attachments": {},
   "cell_type": "markdown",
   "metadata": {},
   "source": [
    "- How to create dictionaries"
   ]
  },
  {
   "cell_type": "code",
   "execution_count": 3,
   "metadata": {},
   "outputs": [
    {
     "name": "stdout",
     "output_type": "stream",
     "text": [
      "{'name': 'Gorish', 'age': 24}\n",
      "<class 'dict'>\n"
     ]
    }
   ],
   "source": [
    "user = {'name':'Gorish','age':24}\n",
    "print(user)\n",
    "print(type(user))"
   ]
  },
  {
   "attachments": {},
   "cell_type": "markdown",
   "metadata": {},
   "source": [
    "- 2nd method to create dictionaries"
   ]
  },
  {
   "cell_type": "code",
   "execution_count": 4,
   "metadata": {},
   "outputs": [
    {
     "name": "stdout",
     "output_type": "stream",
     "text": [
      "{'name': 'Gorish', 'age': 24}\n",
      "<class 'dict'>\n"
     ]
    }
   ],
   "source": [
    "user1 = dict(name=\"Gorish\", age=24)\n",
    "print(user1)\n",
    "print(type(user1))"
   ]
  },
  {
   "attachments": {},
   "cell_type": "markdown",
   "metadata": {},
   "source": [
    "- accessing data from dictionary"
   ]
  },
  {
   "cell_type": "code",
   "execution_count": 5,
   "metadata": {},
   "outputs": [
    {
     "name": "stdout",
     "output_type": "stream",
     "text": [
      "24\n"
     ]
    }
   ],
   "source": [
    "user = {'name':'Gorish','age':24}\n",
    "print(user['age'])"
   ]
  },
  {
   "attachments": {},
   "cell_type": "markdown",
   "metadata": {},
   "source": [
    "- dictionary can store anything"
   ]
  },
  {
   "cell_type": "code",
   "execution_count": 6,
   "metadata": {},
   "outputs": [],
   "source": [
    "user_info = {\n",
    "    'name':'Gorish Verma',\n",
    "    'age':24,\n",
    "    'fav_movies':['coco','dragon'],\n",
    "    'fav_tunes':['awakening','fairy tale']\n",
    "}"
   ]
  },
  {
   "cell_type": "code",
   "execution_count": 7,
   "metadata": {},
   "outputs": [
    {
     "name": "stdout",
     "output_type": "stream",
     "text": [
      "['coco', 'dragon']\n"
     ]
    }
   ],
   "source": [
    "print(user_info['fav_movies'])"
   ]
  },
  {
   "cell_type": "code",
   "execution_count": 9,
   "metadata": {},
   "outputs": [
    {
     "name": "stdout",
     "output_type": "stream",
     "text": [
      "{'user1': {'name': 'Gorish Verma', 'age': 24, 'city': 'Narnaul'}, 'user2': {'name': 'Prashant Soni', 'age': 22, 'city': 'Narnaul'}}\n"
     ]
    }
   ],
   "source": [
    "users = {\n",
    "    'user1' : {\n",
    "    'name':'Gorish Verma',\n",
    "    'age':24,\n",
    "    'city':'Narnaul'\n",
    "    },\n",
    "    'user2' : {\n",
    "    'name':'Prashant Soni',\n",
    "    'age':22,\n",
    "    'city':'Narnaul'\n",
    "    }\n",
    "}\n",
    "\n",
    "print(users)"
   ]
  },
  {
   "attachments": {},
   "cell_type": "markdown",
   "metadata": {},
   "source": [
    "#### Looping & in keyword (in dictionary)"
   ]
  },
  {
   "attachments": {},
   "cell_type": "markdown",
   "metadata": {},
   "source": [
    "- check if key exist in dictionary"
   ]
  },
  {
   "cell_type": "code",
   "execution_count": 10,
   "metadata": {},
   "outputs": [
    {
     "name": "stdout",
     "output_type": "stream",
     "text": [
      "present\n"
     ]
    }
   ],
   "source": [
    "user_info = {\n",
    "    'name':'Gorish Verma',\n",
    "    'age':24,\n",
    "    'fav_movies':['coco','dragon'],\n",
    "    'fav_tunes':['awakening','fairy tale']\n",
    "}\n",
    "\n",
    "if 'name' in user_info:\n",
    "    print('present')"
   ]
  },
  {
   "attachments": {},
   "cell_type": "markdown",
   "metadata": {},
   "source": [
    "- check for values"
   ]
  },
  {
   "cell_type": "code",
   "execution_count": 12,
   "metadata": {},
   "outputs": [
    {
     "name": "stdout",
     "output_type": "stream",
     "text": [
      "present\n"
     ]
    }
   ],
   "source": [
    "user_info = {\n",
    "    'name':'Gorish Verma',\n",
    "    'age':24,\n",
    "    'fav_movies':['coco','dragon'],\n",
    "    'fav_tunes':['awakening','fairy tale']\n",
    "}\n",
    "\n",
    "if 'Gorish Verma' in user_info.values():\n",
    "    print('present')"
   ]
  },
  {
   "attachments": {},
   "cell_type": "markdown",
   "metadata": {},
   "source": [
    "- printing all keys"
   ]
  },
  {
   "cell_type": "code",
   "execution_count": 13,
   "metadata": {},
   "outputs": [
    {
     "name": "stdout",
     "output_type": "stream",
     "text": [
      "name\n",
      "age\n",
      "fav_movies\n",
      "fav_tunes\n"
     ]
    }
   ],
   "source": [
    "user_info = {\n",
    "    'name':'Gorish Verma',\n",
    "    'age':24,\n",
    "    'fav_movies':['coco','dragon'],\n",
    "    'fav_tunes':['awakening','fairy tale']\n",
    "}\n",
    "\n",
    "for i in user_info:\n",
    "    print(i)\n"
   ]
  },
  {
   "cell_type": "code",
   "execution_count": 16,
   "metadata": {},
   "outputs": [
    {
     "name": "stdout",
     "output_type": "stream",
     "text": [
      "name\n",
      "age\n",
      "fav_movies\n",
      "fav_tunes\n"
     ]
    }
   ],
   "source": [
    "user_info = {\n",
    "    'name':'Gorish Verma',\n",
    "    'age':24,\n",
    "    'fav_movies':['coco','dragon'],\n",
    "    'fav_tunes':['awakening','fairy tale']\n",
    "}\n",
    "\n",
    "for i in user_info.keys():\n",
    "    print(i)"
   ]
  },
  {
   "attachments": {},
   "cell_type": "markdown",
   "metadata": {},
   "source": [
    "- printing all values"
   ]
  },
  {
   "cell_type": "code",
   "execution_count": 15,
   "metadata": {},
   "outputs": [
    {
     "name": "stdout",
     "output_type": "stream",
     "text": [
      "Gorish Verma\n",
      "24\n",
      "['coco', 'dragon']\n",
      "['awakening', 'fairy tale']\n"
     ]
    }
   ],
   "source": [
    "user_info = {\n",
    "    'name':'Gorish Verma',\n",
    "    'age':24,\n",
    "    'fav_movies':['coco','dragon'],\n",
    "    'fav_tunes':['awakening','fairy tale']\n",
    "}\n",
    "\n",
    "for i in user_info.values():\n",
    "    print(i)"
   ]
  },
  {
   "cell_type": "code",
   "execution_count": 21,
   "metadata": {},
   "outputs": [
    {
     "name": "stdout",
     "output_type": "stream",
     "text": [
      "Gorish Verma\n",
      "24\n",
      "['coco', 'dragon']\n",
      "['awakening', 'fairy tale']\n"
     ]
    }
   ],
   "source": [
    "user_info = {\n",
    "    'name':'Gorish Verma',\n",
    "    'age':24,\n",
    "    'fav_movies':['coco','dragon'],\n",
    "    'fav_tunes':['awakening','fairy tale']\n",
    "}\n",
    "\n",
    "for i in user_info:\n",
    "    print(user_info[i])"
   ]
  },
  {
   "attachments": {},
   "cell_type": "markdown",
   "metadata": {},
   "source": [
    "- accessing all the values\n",
    "- this will arange all values in list\n",
    "- this will have dict_values type"
   ]
  },
  {
   "cell_type": "code",
   "execution_count": 19,
   "metadata": {},
   "outputs": [
    {
     "name": "stdout",
     "output_type": "stream",
     "text": [
      "dict_values(['Gorish Verma', 24, ['coco', 'dragon'], ['awakening', 'fairy tale']])\n",
      "<class 'dict_values'>\n"
     ]
    }
   ],
   "source": [
    "user_info = {\n",
    "    'name':'Gorish Verma',\n",
    "    'age':24,\n",
    "    'fav_movies':['coco','dragon'],\n",
    "    'fav_tunes':['awakening','fairy tale']\n",
    "}\n",
    "\n",
    "values = user_info.values()\n",
    "print(values)\n",
    "print(type(values))"
   ]
  },
  {
   "attachments": {},
   "cell_type": "markdown",
   "metadata": {},
   "source": [
    "- accessing all the keys\n",
    "- this will agange all the keys in list\n",
    "- this will have dict_keys type"
   ]
  },
  {
   "cell_type": "code",
   "execution_count": 20,
   "metadata": {},
   "outputs": [
    {
     "name": "stdout",
     "output_type": "stream",
     "text": [
      "dict_keys(['name', 'age', 'fav_movies', 'fav_tunes'])\n",
      "<class 'dict_keys'>\n"
     ]
    }
   ],
   "source": [
    "user_info = {\n",
    "    'name':'Gorish Verma',\n",
    "    'age':24,\n",
    "    'fav_movies':['coco','dragon'],\n",
    "    'fav_tunes':['awakening','fairy tale']\n",
    "}\n",
    "\n",
    "keys = user_info.keys()\n",
    "print(keys)\n",
    "print(type(keys))"
   ]
  },
  {
   "attachments": {},
   "cell_type": "markdown",
   "metadata": {},
   "source": [
    "- items method\n",
    "- give all the items (key:value) (pair)\n",
    "- it will give list of tuples"
   ]
  },
  {
   "cell_type": "code",
   "execution_count": 22,
   "metadata": {},
   "outputs": [
    {
     "name": "stdout",
     "output_type": "stream",
     "text": [
      "dict_items([('name', 'Gorish Verma'), ('age', 24), ('fav_movies', ['coco', 'dragon']), ('fav_tunes', ['awakening', 'fairy tale'])])\n",
      "<class 'dict_items'>\n"
     ]
    }
   ],
   "source": [
    "user_info = {\n",
    "    'name':'Gorish Verma',\n",
    "    'age':24,\n",
    "    'fav_movies':['coco','dragon'],\n",
    "    'fav_tunes':['awakening','fairy tale']\n",
    "}\n",
    "\n",
    "user_items = user_info.items()\n",
    "print(user_items)\n",
    "print(type(user_items))"
   ]
  },
  {
   "attachments": {},
   "cell_type": "markdown",
   "metadata": {},
   "source": [
    "- looping through the items"
   ]
  },
  {
   "cell_type": "code",
   "execution_count": 23,
   "metadata": {},
   "outputs": [
    {
     "name": "stdout",
     "output_type": "stream",
     "text": [
      "name Gorish Verma\n",
      "age 24\n",
      "fav_movies ['coco', 'dragon']\n",
      "fav_tunes ['awakening', 'fairy tale']\n"
     ]
    }
   ],
   "source": [
    "user_info = {\n",
    "    'name':'Gorish Verma',\n",
    "    'age':24,\n",
    "    'fav_movies':['coco','dragon'],\n",
    "    'fav_tunes':['awakening','fairy tale']\n",
    "}\n",
    "\n",
    "for i,j in user_info.items():\n",
    "    print(i,j)"
   ]
  },
  {
   "cell_type": "code",
   "execution_count": 24,
   "metadata": {},
   "outputs": [
    {
     "name": "stdout",
     "output_type": "stream",
     "text": [
      "('name', 'Gorish Verma')\n",
      "('age', 24)\n",
      "('fav_movies', ['coco', 'dragon'])\n",
      "('fav_tunes', ['awakening', 'fairy tale'])\n"
     ]
    }
   ],
   "source": [
    "for i in user_info.items():\n",
    "    print(i)"
   ]
  },
  {
   "attachments": {},
   "cell_type": "markdown",
   "metadata": {},
   "source": [
    "#### add & delete data from dictionaris"
   ]
  },
  {
   "attachments": {},
   "cell_type": "markdown",
   "metadata": {},
   "source": [
    "- adding data"
   ]
  },
  {
   "cell_type": "code",
   "execution_count": 26,
   "metadata": {},
   "outputs": [
    {
     "name": "stdout",
     "output_type": "stream",
     "text": [
      "name Gorish Verma\n",
      "age 24\n",
      "fav_movies ['coco', 'dragon']\n",
      "fav_tunes ['awakening', 'fairy tale']\n",
      "fac_songs ['surili', 'nazre', 'geet']\n"
     ]
    }
   ],
   "source": [
    "user_info = {\n",
    "    'name':'Gorish Verma',\n",
    "    'age':24,\n",
    "    'fav_movies':['coco','dragon'],\n",
    "    'fav_tunes':['awakening','fairy tale']\n",
    "}\n",
    "\n",
    "user_info['fac_songs'] = ['surili','nazre','geet']\n",
    "for i,j in user_info.items():\n",
    "    print(i,j)"
   ]
  },
  {
   "attachments": {},
   "cell_type": "markdown",
   "metadata": {},
   "source": [
    "- pop method\n",
    "- it also returns value\n",
    "- we need to specify the key also"
   ]
  },
  {
   "cell_type": "code",
   "execution_count": 28,
   "metadata": {},
   "outputs": [
    {
     "name": "stdout",
     "output_type": "stream",
     "text": [
      "24\n"
     ]
    }
   ],
   "source": [
    "user_info = {\n",
    "    'name':'Gorish Verma',\n",
    "    'age':24,\n",
    "    'fav_movies':['coco','dragon'],\n",
    "    'fav_tunes':['awakening','fairy tale']\n",
    "}\n",
    "\n",
    "poped = user_info.pop('age')\n",
    "print(poped)"
   ]
  },
  {
   "attachments": {},
   "cell_type": "markdown",
   "metadata": {},
   "source": [
    "- popitem()\n",
    "- it removes the last one\n",
    "- it returns tuple\n",
    "- do not need to specify any key"
   ]
  },
  {
   "cell_type": "code",
   "execution_count": 32,
   "metadata": {},
   "outputs": [
    {
     "name": "stdout",
     "output_type": "stream",
     "text": [
      "('fav_tunes', ['awakening', 'fairy tale'])\n",
      "<class 'tuple'>\n"
     ]
    }
   ],
   "source": [
    "user_info = {\n",
    "    'name':'Gorish Verma',\n",
    "    'age':24,\n",
    "    'fav_movies':['coco','dragon'],\n",
    "    'fav_tunes':['awakening','fairy tale']\n",
    "}\n",
    "\n",
    "poped = user_info.popitem()\n",
    "print(poped)\n",
    "print(type(poped))"
   ]
  },
  {
   "attachments": {},
   "cell_type": "markdown",
   "metadata": {},
   "source": [
    "- update() method\n",
    "- to update any value\n",
    "- or add any key value pair"
   ]
  },
  {
   "cell_type": "code",
   "execution_count": 34,
   "metadata": {},
   "outputs": [
    {
     "name": "stdout",
     "output_type": "stream",
     "text": [
      "name Gorish Verma\n",
      "age 24\n",
      "fav_movies ['coco', 'dragon']\n",
      "fav_tunes ['awakening', 'fairy tale']\n",
      "state Haryana\n",
      "Hobbies ['coding', 'reading', 'guitar']\n"
     ]
    }
   ],
   "source": [
    "user_info = {\n",
    "    'name':'Gorish Verma',\n",
    "    'age':24,\n",
    "    'fav_movies':['coco','dragon'],\n",
    "    'fav_tunes':['awakening','fairy tale']\n",
    "}\n",
    "\n",
    "more_info = {'state':'Haryana','Hobbies':['coding','reading','guitar']}\n",
    "\n",
    "user_info.update(more_info)\n",
    "\n",
    "for i,j in user_info.items():\n",
    "    print(i,j)"
   ]
  },
  {
   "attachments": {},
   "cell_type": "markdown",
   "metadata": {},
   "source": [
    "#### fromkeys, get, clear, copy method"
   ]
  },
  {
   "attachments": {},
   "cell_type": "markdown",
   "metadata": {},
   "source": [
    "- fromkeys\n",
    "- defining all the keys with same values"
   ]
  },
  {
   "cell_type": "code",
   "execution_count": 37,
   "metadata": {},
   "outputs": [
    {
     "name": "stdout",
     "output_type": "stream",
     "text": [
      "name unknown\n",
      "age unknown\n",
      "height unknown\n"
     ]
    }
   ],
   "source": [
    "d = dict.fromkeys(['name','age','height'],'unknown')\n",
    "\n",
    "for i,j in d.items():\n",
    "    print(i,j)"
   ]
  },
  {
   "cell_type": "code",
   "execution_count": 38,
   "metadata": {},
   "outputs": [
    {
     "name": "stdout",
     "output_type": "stream",
     "text": [
      "a unknown\n",
      "b unknown\n",
      "c unknown\n",
      "d unknown\n"
     ]
    }
   ],
   "source": [
    "d = dict.fromkeys('abcd','unknown')\n",
    "\n",
    "for i,j in d.items():\n",
    "    print(i,j)"
   ]
  },
  {
   "cell_type": "code",
   "execution_count": 39,
   "metadata": {},
   "outputs": [
    {
     "name": "stdout",
     "output_type": "stream",
     "text": [
      "1 unknwon\n",
      "2 unknwon\n",
      "3 unknwon\n",
      "4 unknwon\n",
      "5 unknwon\n"
     ]
    }
   ],
   "source": [
    "d = dict.fromkeys(range(1,6),'unknwon')\n",
    "\n",
    "for i,j in d.items():\n",
    "    print(i,j)"
   ]
  },
  {
   "cell_type": "code",
   "execution_count": 40,
   "metadata": {},
   "outputs": [
    {
     "name": "stdout",
     "output_type": "stream",
     "text": [
      "name ['unknown', 'unknown', 'unknown']\n",
      "age ['unknown', 'unknown', 'unknown']\n",
      "gender ['unknown', 'unknown', 'unknown']\n"
     ]
    }
   ],
   "source": [
    "d = dict.fromkeys(['name','age','gender'],['unknown','unknown','unknown'])\n",
    "\n",
    "for i,j in d.items():\n",
    "    print(i,j)"
   ]
  },
  {
   "attachments": {},
   "cell_type": "markdown",
   "metadata": {},
   "source": [
    "- get method\n",
    "- to access any value\n",
    "- if it do not find any value it returns None"
   ]
  },
  {
   "cell_type": "code",
   "execution_count": 42,
   "metadata": {},
   "outputs": [
    {
     "name": "stdout",
     "output_type": "stream",
     "text": [
      "Gorish Verma\n",
      "None\n"
     ]
    }
   ],
   "source": [
    "user_info = {\n",
    "    'name':'Gorish Verma',\n",
    "    'age':24,\n",
    "    'fav_movies':['coco','dragon'],\n",
    "    'fav_tunes':['awakening','fairy tale']\n",
    "}\n",
    "\n",
    "print(user_info.get('name'))\n",
    "print(user_info.get('city'))"
   ]
  },
  {
   "cell_type": "code",
   "execution_count": 43,
   "metadata": {},
   "outputs": [
    {
     "name": "stdout",
     "output_type": "stream",
     "text": [
      "present\n"
     ]
    }
   ],
   "source": [
    "if user_info.get('name'):\n",
    "    print('present')\n",
    "else:\n",
    "    print('not present')"
   ]
  },
  {
   "attachments": {},
   "cell_type": "markdown",
   "metadata": {},
   "source": [
    "- clear()\n",
    "- to clear the dictionary"
   ]
  },
  {
   "cell_type": "code",
   "execution_count": 44,
   "metadata": {},
   "outputs": [
    {
     "name": "stdout",
     "output_type": "stream",
     "text": [
      "{}\n"
     ]
    }
   ],
   "source": [
    "user_info = {\n",
    "    'name':'Gorish Verma',\n",
    "    'age':24,\n",
    "    'fav_movies':['coco','dragon'],\n",
    "    'fav_tunes':['awakening','fairy tale']\n",
    "}\n",
    "\n",
    "user_info.clear()\n",
    "\n",
    "print(user_info)"
   ]
  },
  {
   "attachments": {},
   "cell_type": "markdown",
   "metadata": {},
   "source": [
    "- copy()\n",
    "- to copy any dictionary to another variable"
   ]
  },
  {
   "cell_type": "code",
   "execution_count": 45,
   "metadata": {},
   "outputs": [
    {
     "name": "stdout",
     "output_type": "stream",
     "text": [
      "{'name': 'Gorish Verma', 'age': 24, 'fav_movies': ['coco', 'dragon'], 'fav_tunes': ['awakening', 'fairy tale']}\n"
     ]
    }
   ],
   "source": [
    "user_info = {\n",
    "    'name':'Gorish Verma',\n",
    "    'age':24,\n",
    "    'fav_movies':['coco','dragon'],\n",
    "    'fav_tunes':['awakening','fairy tale']\n",
    "}\n",
    "\n",
    "u2 = user_info.copy()\n",
    "print(u2)"
   ]
  },
  {
   "attachments": {},
   "cell_type": "markdown",
   "metadata": {},
   "source": [
    "- if we use user_info = u2, then it is not perfect copy\n",
    "- if we remove any value or add any value or update any value in user_info, then the same value will also be updated to u2"
   ]
  },
  {
   "attachments": {},
   "cell_type": "markdown",
   "metadata": {},
   "source": [
    "#### more about get() method"
   ]
  },
  {
   "attachments": {},
   "cell_type": "markdown",
   "metadata": {},
   "source": [
    "- if get() do not find any key value pair, it returns None\n",
    "- we can change that and specify there our own value to return"
   ]
  },
  {
   "cell_type": "code",
   "execution_count": 46,
   "metadata": {},
   "outputs": [
    {
     "name": "stdout",
     "output_type": "stream",
     "text": [
      "Not found!!!\n"
     ]
    }
   ],
   "source": [
    "user_info = {\n",
    "    'name':'Gorish Verma',\n",
    "    'age':24,\n",
    "    'fav_movies':['coco','dragon'],\n",
    "    'fav_tunes':['awakening','fairy tale']\n",
    "}\n",
    "\n",
    "print(user_info.get('names','Not found!!!'))"
   ]
  },
  {
   "attachments": {},
   "cell_type": "markdown",
   "metadata": {},
   "source": [
    "- excercise\n",
    "- define a function that takes a number(n)\n",
    "- return a dictionary containing cube of numbers from 1 to n\n",
    "- example \n",
    "- cube_finder(3)\n",
    "- {1:1,2:8,3:27}"
   ]
  },
  {
   "cell_type": "code",
   "execution_count": 49,
   "metadata": {},
   "outputs": [
    {
     "name": "stdout",
     "output_type": "stream",
     "text": [
      "{1: 1, 2: 8, 3: 27, 4: 64, 5: 125, 6: 216, 7: 343, 8: 512, 9: 729, 10: 1000}\n"
     ]
    }
   ],
   "source": [
    "def cuber(n):\n",
    "    d = {}\n",
    "    for i in range(1,n+1):\n",
    "        d[i] = i**3\n",
    "\n",
    "    return d\n",
    "\n",
    "print(cuber(10))"
   ]
  },
  {
   "attachments": {},
   "cell_type": "markdown",
   "metadata": {},
   "source": [
    "#### word counter dictionary"
   ]
  },
  {
   "cell_type": "code",
   "execution_count": 53,
   "metadata": {},
   "outputs": [
    {
     "name": "stdout",
     "output_type": "stream",
     "text": [
      "{'G': 1, 'o': 1, 'r': 2, 'i': 1, 's': 1, 'h': 1, ' ': 1, 'V': 1, 'e': 1, 'm': 1, 'a': 1}\n"
     ]
    }
   ],
   "source": [
    "def word_counter(s):\n",
    "    d={}\n",
    "    for i in s:\n",
    "        d[i] = s.count(i)\n",
    "\n",
    "    return d\n",
    "\n",
    "\n",
    "print(word_counter('Gorish Verma'))"
   ]
  },
  {
   "attachments": {},
   "cell_type": "markdown",
   "metadata": {},
   "source": [
    "- excercise\n",
    "- ask the keys and values from user and store it into the string"
   ]
  },
  {
   "cell_type": "code",
   "execution_count": 55,
   "metadata": {},
   "outputs": [
    {
     "name": "stdout",
     "output_type": "stream",
     "text": [
      "name Gorish Verma\n",
      "age 25\n",
      "fav_movies ['raj', 'gulam', 'kabaddi', 'kai po che']\n",
      "fav_songs ['raat', 'mola mere', 'shri ram jai ram jai jai ram']\n"
     ]
    }
   ],
   "source": [
    "name = input('Enter your name: ')\n",
    "age = input('Enter your age: ')\n",
    "fav_movies = input('Enter your favorite movies (comma separated): ').split(',')\n",
    "fav_songs = input('Enter your favorite songs (comma separated): ').split(',')\n",
    "\n",
    "user = {}\n",
    "user['name'] = name\n",
    "user['age'] = age\n",
    "user['fav_movies'] = fav_movies\n",
    "user['fav_songs'] = fav_songs\n",
    "\n",
    "for i,j in user.items():\n",
    "    print(i,j)"
   ]
  },
  {
   "cell_type": "code",
   "execution_count": null,
   "metadata": {},
   "outputs": [],
   "source": []
  }
 ],
 "metadata": {
  "kernelspec": {
   "display_name": "Python 3",
   "language": "python",
   "name": "python3"
  },
  "language_info": {
   "codemirror_mode": {
    "name": "ipython",
    "version": 3
   },
   "file_extension": ".py",
   "mimetype": "text/x-python",
   "name": "python",
   "nbconvert_exporter": "python",
   "pygments_lexer": "ipython3",
   "version": "3.10.7"
  },
  "orig_nbformat": 4
 },
 "nbformat": 4,
 "nbformat_minor": 2
}
